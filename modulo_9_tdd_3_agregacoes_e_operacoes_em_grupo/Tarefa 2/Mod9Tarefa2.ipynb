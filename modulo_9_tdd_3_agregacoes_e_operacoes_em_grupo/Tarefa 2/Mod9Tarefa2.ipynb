{
 "cells": [
  {
   "cell_type": "markdown",
   "metadata": {},
   "source": [
    "# Livro para consulta:\n",
    "- https://jakevdp.github.io/PythonDataScienceHandbook/03.08-aggregation-and-grouping.html\n",
    "- https://jakevdp.github.io/PythonDataScienceHandbook/03.09-pivot-tables.html\n",
    "    "
   ]
  },
  {
   "cell_type": "markdown",
   "metadata": {},
   "source": [
    "# 1. Importando bibliotecas <a name=\"import\"></a>\n",
    "\n",
    "<div style=\"text-align: right\"\n",
    "     \n",
    "[Voltar ao índice](#Contents)"
   ]
  },
  {
   "cell_type": "code",
   "execution_count": 47,
   "metadata": {
    "ExecuteTime": {
     "end_time": "2021-06-06T21:12:37.298706Z",
     "start_time": "2021-06-06T21:12:36.656481Z"
    }
   },
   "outputs": [],
   "source": [
    "import numpy as np\n",
    "import pandas as pd\n",
    "import seaborn as sns\n",
    "import matplotlib.pyplot as plt\n",
    "\n",
    "%matplotlib inline"
   ]
  },
  {
   "cell_type": "code",
   "execution_count": null,
   "metadata": {},
   "outputs": [],
   "source": []
  },
  {
   "cell_type": "markdown",
   "metadata": {},
   "source": [
    "# 2. Carregando o dataframe SINASC <a name=\"read\"></a>\n",
    "<div style=\"text-align: right\"\n",
    "     \n",
    "[Voltar ao índice](#Contents)"
   ]
  },
  {
   "cell_type": "code",
   "execution_count": 48,
   "metadata": {
    "ExecuteTime": {
     "end_time": "2021-06-06T21:12:37.762376Z",
     "start_time": "2021-06-06T21:12:37.728383Z"
    },
    "scrolled": true
   },
   "outputs": [
    {
     "data": {
      "text/html": [
       "<div>\n",
       "<style scoped>\n",
       "    .dataframe tbody tr th:only-of-type {\n",
       "        vertical-align: middle;\n",
       "    }\n",
       "\n",
       "    .dataframe tbody tr th {\n",
       "        vertical-align: top;\n",
       "    }\n",
       "\n",
       "    .dataframe thead th {\n",
       "        text-align: right;\n",
       "    }\n",
       "</style>\n",
       "<table border=\"1\" class=\"dataframe\">\n",
       "  <thead>\n",
       "    <tr style=\"text-align: right;\">\n",
       "      <th></th>\n",
       "      <th>ORIGEM</th>\n",
       "      <th>CODESTAB</th>\n",
       "      <th>CODMUNNASC</th>\n",
       "      <th>LOCNASC</th>\n",
       "      <th>IDADEMAE</th>\n",
       "      <th>ESTCIVMAE</th>\n",
       "      <th>ESCMAE</th>\n",
       "      <th>CODOCUPMAE</th>\n",
       "      <th>QTDFILVIVO</th>\n",
       "      <th>QTDFILMORT</th>\n",
       "      <th>...</th>\n",
       "      <th>KOTELCHUCK</th>\n",
       "      <th>CONTADOR</th>\n",
       "      <th>munResStatus</th>\n",
       "      <th>munResTipo</th>\n",
       "      <th>munResNome</th>\n",
       "      <th>munResUf</th>\n",
       "      <th>munResLat</th>\n",
       "      <th>munResLon</th>\n",
       "      <th>munResAlt</th>\n",
       "      <th>munResArea</th>\n",
       "    </tr>\n",
       "  </thead>\n",
       "  <tbody>\n",
       "    <tr>\n",
       "      <th>0</th>\n",
       "      <td>1</td>\n",
       "      <td>2679477.0</td>\n",
       "      <td>110001</td>\n",
       "      <td>1</td>\n",
       "      <td>19</td>\n",
       "      <td>5.0</td>\n",
       "      <td>8 a 11 anos</td>\n",
       "      <td>NaN</td>\n",
       "      <td>0.0</td>\n",
       "      <td>0.0</td>\n",
       "      <td>...</td>\n",
       "      <td>5</td>\n",
       "      <td>1</td>\n",
       "      <td>ATIVO</td>\n",
       "      <td>MUNIC</td>\n",
       "      <td>Alta Floresta D'Oeste</td>\n",
       "      <td>Rondônia</td>\n",
       "      <td>-11.93554</td>\n",
       "      <td>-61.99982</td>\n",
       "      <td>338.0</td>\n",
       "      <td>7067.025</td>\n",
       "    </tr>\n",
       "    <tr>\n",
       "      <th>1</th>\n",
       "      <td>1</td>\n",
       "      <td>2679477.0</td>\n",
       "      <td>110001</td>\n",
       "      <td>1</td>\n",
       "      <td>29</td>\n",
       "      <td>2.0</td>\n",
       "      <td>8 a 11 anos</td>\n",
       "      <td>999992.0</td>\n",
       "      <td>1.0</td>\n",
       "      <td>0.0</td>\n",
       "      <td>...</td>\n",
       "      <td>5</td>\n",
       "      <td>2</td>\n",
       "      <td>ATIVO</td>\n",
       "      <td>MUNIC</td>\n",
       "      <td>Alta Floresta D'Oeste</td>\n",
       "      <td>Rondônia</td>\n",
       "      <td>-11.93554</td>\n",
       "      <td>-61.99982</td>\n",
       "      <td>338.0</td>\n",
       "      <td>7067.025</td>\n",
       "    </tr>\n",
       "    <tr>\n",
       "      <th>2</th>\n",
       "      <td>1</td>\n",
       "      <td>2679477.0</td>\n",
       "      <td>110001</td>\n",
       "      <td>1</td>\n",
       "      <td>37</td>\n",
       "      <td>9.0</td>\n",
       "      <td>8 a 11 anos</td>\n",
       "      <td>513205.0</td>\n",
       "      <td>2.0</td>\n",
       "      <td>0.0</td>\n",
       "      <td>...</td>\n",
       "      <td>5</td>\n",
       "      <td>3</td>\n",
       "      <td>ATIVO</td>\n",
       "      <td>MUNIC</td>\n",
       "      <td>Alta Floresta D'Oeste</td>\n",
       "      <td>Rondônia</td>\n",
       "      <td>-11.93554</td>\n",
       "      <td>-61.99982</td>\n",
       "      <td>338.0</td>\n",
       "      <td>7067.025</td>\n",
       "    </tr>\n",
       "    <tr>\n",
       "      <th>3</th>\n",
       "      <td>1</td>\n",
       "      <td>2516500.0</td>\n",
       "      <td>110001</td>\n",
       "      <td>1</td>\n",
       "      <td>30</td>\n",
       "      <td>5.0</td>\n",
       "      <td>12 anos ou mais</td>\n",
       "      <td>231205.0</td>\n",
       "      <td>0.0</td>\n",
       "      <td>0.0</td>\n",
       "      <td>...</td>\n",
       "      <td>4</td>\n",
       "      <td>4</td>\n",
       "      <td>ATIVO</td>\n",
       "      <td>MUNIC</td>\n",
       "      <td>Alto Alegre dos Parecis</td>\n",
       "      <td>Rondônia</td>\n",
       "      <td>-12.13178</td>\n",
       "      <td>-61.85308</td>\n",
       "      <td>397.0</td>\n",
       "      <td>3958.273</td>\n",
       "    </tr>\n",
       "    <tr>\n",
       "      <th>4</th>\n",
       "      <td>1</td>\n",
       "      <td>2516500.0</td>\n",
       "      <td>110001</td>\n",
       "      <td>1</td>\n",
       "      <td>30</td>\n",
       "      <td>2.0</td>\n",
       "      <td>8 a 11 anos</td>\n",
       "      <td>999992.0</td>\n",
       "      <td>1.0</td>\n",
       "      <td>0.0</td>\n",
       "      <td>...</td>\n",
       "      <td>5</td>\n",
       "      <td>5</td>\n",
       "      <td>ATIVO</td>\n",
       "      <td>MUNIC</td>\n",
       "      <td>Alta Floresta D'Oeste</td>\n",
       "      <td>Rondônia</td>\n",
       "      <td>-11.93554</td>\n",
       "      <td>-61.99982</td>\n",
       "      <td>338.0</td>\n",
       "      <td>7067.025</td>\n",
       "    </tr>\n",
       "  </tbody>\n",
       "</table>\n",
       "<p>5 rows × 69 columns</p>\n",
       "</div>"
      ],
      "text/plain": [
       "   ORIGEM   CODESTAB  CODMUNNASC  LOCNASC  IDADEMAE  ESTCIVMAE  \\\n",
       "0       1  2679477.0      110001        1        19        5.0   \n",
       "1       1  2679477.0      110001        1        29        2.0   \n",
       "2       1  2679477.0      110001        1        37        9.0   \n",
       "3       1  2516500.0      110001        1        30        5.0   \n",
       "4       1  2516500.0      110001        1        30        2.0   \n",
       "\n",
       "            ESCMAE  CODOCUPMAE  QTDFILVIVO  QTDFILMORT  ...  KOTELCHUCK  \\\n",
       "0      8 a 11 anos         NaN         0.0         0.0  ...           5   \n",
       "1      8 a 11 anos    999992.0         1.0         0.0  ...           5   \n",
       "2      8 a 11 anos    513205.0         2.0         0.0  ...           5   \n",
       "3  12 anos ou mais    231205.0         0.0         0.0  ...           4   \n",
       "4      8 a 11 anos    999992.0         1.0         0.0  ...           5   \n",
       "\n",
       "  CONTADOR munResStatus munResTipo               munResNome  munResUf  \\\n",
       "0        1        ATIVO      MUNIC    Alta Floresta D'Oeste  Rondônia   \n",
       "1        2        ATIVO      MUNIC    Alta Floresta D'Oeste  Rondônia   \n",
       "2        3        ATIVO      MUNIC    Alta Floresta D'Oeste  Rondônia   \n",
       "3        4        ATIVO      MUNIC  Alto Alegre dos Parecis  Rondônia   \n",
       "4        5        ATIVO      MUNIC    Alta Floresta D'Oeste  Rondônia   \n",
       "\n",
       "   munResLat munResLon  munResAlt  munResArea  \n",
       "0  -11.93554 -61.99982      338.0    7067.025  \n",
       "1  -11.93554 -61.99982      338.0    7067.025  \n",
       "2  -11.93554 -61.99982      338.0    7067.025  \n",
       "3  -12.13178 -61.85308      397.0    3958.273  \n",
       "4  -11.93554 -61.99982      338.0    7067.025  \n",
       "\n",
       "[5 rows x 69 columns]"
      ]
     },
     "execution_count": 48,
     "metadata": {},
     "output_type": "execute_result"
    }
   ],
   "source": [
    "sinasc_raw = pd.read_csv('../SINASC_RO_2019.csv')\n",
    "sinasc_raw.head()"
   ]
  },
  {
   "cell_type": "code",
   "execution_count": 49,
   "metadata": {},
   "outputs": [],
   "source": [
    "sinasc = sinasc_raw[['munResNome', 'munResLat', 'munResAlt', 'munResArea', 'QTDPARTNOR', 'QTDPARTCES']]"
   ]
  },
  {
   "cell_type": "code",
   "execution_count": 50,
   "metadata": {},
   "outputs": [
    {
     "data": {
      "text/plain": [
       "<PandasArray>\n",
       "[      'ORIGEM',     'CODESTAB',   'CODMUNNASC',      'LOCNASC',\n",
       "     'IDADEMAE',    'ESTCIVMAE',       'ESCMAE',   'CODOCUPMAE',\n",
       "   'QTDFILVIVO',   'QTDFILMORT',    'CODMUNRES',     'GESTACAO',\n",
       "     'GRAVIDEZ',        'PARTO',    'CONSULTAS',       'DTNASC',\n",
       "     'HORANASC',         'SEXO',       'APGAR1',       'APGAR5',\n",
       "      'RACACOR',         'PESO',     'IDANOMAL',   'DTCADASTRO',\n",
       "    'CODANOMAL',   'NUMEROLOTE',   'VERSAOSIST',    'DTRECEBIM',\n",
       "      'DIFDATA',   'DTRECORIGA',   'NATURALMAE',   'CODMUNNATU',\n",
       "    'CODUFNATU',   'ESCMAE2010',   'SERIESCMAE',    'DTNASCMAE',\n",
       "   'RACACORMAE',   'QTDGESTANT',   'QTDPARTNOR',   'QTDPARTCES',\n",
       "     'IDADEPAI',   'DTULTMENST',   'SEMAGESTAC',   'TPMETESTIM',\n",
       "   'CONSPRENAT',    'MESPRENAT',   'TPAPRESENT',   'STTRABPART',\n",
       "   'STCESPARTO',   'TPNASCASSI',   'TPFUNCRESP',    'TPDOCRESP',\n",
       "   'DTDECLARAC',   'ESCMAEAGR1',   'STDNEPIDEM',     'STDNNOVA',\n",
       "   'CODPAISRES',     'TPROBSON',     'PARIDADE',   'KOTELCHUCK',\n",
       "     'CONTADOR', 'munResStatus',   'munResTipo',   'munResNome',\n",
       "     'munResUf',    'munResLat',    'munResLon',    'munResAlt',\n",
       "   'munResArea']\n",
       "Length: 69, dtype: object"
      ]
     },
     "execution_count": 50,
     "metadata": {},
     "output_type": "execute_result"
    }
   ],
   "source": [
    "sinasc_raw.columns.array"
   ]
  },
  {
   "cell_type": "code",
   "execution_count": null,
   "metadata": {},
   "outputs": [],
   "source": []
  },
  {
   "cell_type": "markdown",
   "metadata": {},
   "source": [
    "# Tarefa 2"
   ]
  },
  {
   "cell_type": "markdown",
   "metadata": {},
   "source": [
    "### 1. Crie 2 faixas de Latitude do município (munResLat) sendo uma acima e outra abaixo de -10.5 e aplique o groupby usando essas faixas como chave e realize operações de soma, media, minimo, maximo, mediana, desvio padrao, variancia pra pelo menos 2 variáveis numéricas ainda não utilizadas"
   ]
  },
  {
   "cell_type": "code",
   "execution_count": 51,
   "metadata": {},
   "outputs": [],
   "source": [
    "sinasc_lat = sinasc_raw[['munResLat', 'QTDPARTNOR', 'QTDPARTCES']]"
   ]
  },
  {
   "cell_type": "code",
   "execution_count": 52,
   "metadata": {},
   "outputs": [],
   "source": [
    "mun_res_lat = sinasc_lat['munResLat'].values\n",
    "mun_res_lat\n",
    "mapping_mun_res_lat = {}\n",
    "for value in mun_res_lat:\n",
    "    map_dict = {value: 'latitude_acima' if value > -10.5 else 'latitude_abaixo'}\n",
    "    mapping_mun_res_lat.update(map_dict)"
   ]
  },
  {
   "cell_type": "code",
   "execution_count": 53,
   "metadata": {},
   "outputs": [],
   "source": [
    "sinasc_latitude = sinasc_lat.set_index('munResLat')\n",
    "soma = sinasc_latitude.groupby(mapping_mun_res_lat).sum(numeric_only=True)\n",
    "media = sinasc_latitude.groupby(mapping_mun_res_lat).mean(numeric_only=True)\n",
    "minimo = sinasc_latitude.groupby(mapping_mun_res_lat).min(numeric_only=True)\n",
    "maximo = sinasc_latitude.groupby(mapping_mun_res_lat).max(numeric_only=True)\n",
    "desvio_padrao = sinasc_latitude.groupby(mapping_mun_res_lat).std(numeric_only=True)\n",
    "variancia = sinasc_latitude.groupby(mapping_mun_res_lat).var(numeric_only=True)"
   ]
  },
  {
   "cell_type": "code",
   "execution_count": 54,
   "metadata": {},
   "outputs": [
    {
     "name": "stdout",
     "output_type": "stream",
     "text": [
      "soma\n"
     ]
    },
    {
     "data": {
      "text/html": [
       "<div>\n",
       "<style scoped>\n",
       "    .dataframe tbody tr th:only-of-type {\n",
       "        vertical-align: middle;\n",
       "    }\n",
       "\n",
       "    .dataframe tbody tr th {\n",
       "        vertical-align: top;\n",
       "    }\n",
       "\n",
       "    .dataframe thead th {\n",
       "        text-align: right;\n",
       "    }\n",
       "</style>\n",
       "<table border=\"1\" class=\"dataframe\">\n",
       "  <thead>\n",
       "    <tr style=\"text-align: right;\">\n",
       "      <th></th>\n",
       "      <th>QTDPARTNOR</th>\n",
       "      <th>QTDPARTCES</th>\n",
       "    </tr>\n",
       "    <tr>\n",
       "      <th>munResLat</th>\n",
       "      <th></th>\n",
       "      <th></th>\n",
       "    </tr>\n",
       "  </thead>\n",
       "  <tbody>\n",
       "    <tr>\n",
       "      <th>latitude_abaixo</th>\n",
       "      <td>5800.0</td>\n",
       "      <td>7095.0</td>\n",
       "    </tr>\n",
       "    <tr>\n",
       "      <th>latitude_acima</th>\n",
       "      <td>8771.0</td>\n",
       "      <td>6041.0</td>\n",
       "    </tr>\n",
       "  </tbody>\n",
       "</table>\n",
       "</div>"
      ],
      "text/plain": [
       "                 QTDPARTNOR  QTDPARTCES\n",
       "munResLat                              \n",
       "latitude_abaixo      5800.0      7095.0\n",
       "latitude_acima       8771.0      6041.0"
      ]
     },
     "execution_count": 54,
     "metadata": {},
     "output_type": "execute_result"
    }
   ],
   "source": [
    "print(\"soma\")\n",
    "soma"
   ]
  },
  {
   "cell_type": "code",
   "execution_count": 55,
   "metadata": {},
   "outputs": [
    {
     "name": "stdout",
     "output_type": "stream",
     "text": [
      "media\n"
     ]
    },
    {
     "data": {
      "text/html": [
       "<div>\n",
       "<style scoped>\n",
       "    .dataframe tbody tr th:only-of-type {\n",
       "        vertical-align: middle;\n",
       "    }\n",
       "\n",
       "    .dataframe tbody tr th {\n",
       "        vertical-align: top;\n",
       "    }\n",
       "\n",
       "    .dataframe thead th {\n",
       "        text-align: right;\n",
       "    }\n",
       "</style>\n",
       "<table border=\"1\" class=\"dataframe\">\n",
       "  <thead>\n",
       "    <tr style=\"text-align: right;\">\n",
       "      <th></th>\n",
       "      <th>QTDPARTNOR</th>\n",
       "      <th>QTDPARTCES</th>\n",
       "    </tr>\n",
       "    <tr>\n",
       "      <th>munResLat</th>\n",
       "      <th></th>\n",
       "      <th></th>\n",
       "    </tr>\n",
       "  </thead>\n",
       "  <tbody>\n",
       "    <tr>\n",
       "      <th>latitude_abaixo</th>\n",
       "      <td>0.452242</td>\n",
       "      <td>0.552570</td>\n",
       "    </tr>\n",
       "    <tr>\n",
       "      <th>latitude_acima</th>\n",
       "      <td>0.711759</td>\n",
       "      <td>0.487335</td>\n",
       "    </tr>\n",
       "  </tbody>\n",
       "</table>\n",
       "</div>"
      ],
      "text/plain": [
       "                 QTDPARTNOR  QTDPARTCES\n",
       "munResLat                              \n",
       "latitude_abaixo    0.452242    0.552570\n",
       "latitude_acima     0.711759    0.487335"
      ]
     },
     "execution_count": 55,
     "metadata": {},
     "output_type": "execute_result"
    }
   ],
   "source": [
    "print(\"media\")\n",
    "media"
   ]
  },
  {
   "cell_type": "code",
   "execution_count": 56,
   "metadata": {},
   "outputs": [
    {
     "name": "stdout",
     "output_type": "stream",
     "text": [
      "minimo\n"
     ]
    },
    {
     "data": {
      "text/html": [
       "<div>\n",
       "<style scoped>\n",
       "    .dataframe tbody tr th:only-of-type {\n",
       "        vertical-align: middle;\n",
       "    }\n",
       "\n",
       "    .dataframe tbody tr th {\n",
       "        vertical-align: top;\n",
       "    }\n",
       "\n",
       "    .dataframe thead th {\n",
       "        text-align: right;\n",
       "    }\n",
       "</style>\n",
       "<table border=\"1\" class=\"dataframe\">\n",
       "  <thead>\n",
       "    <tr style=\"text-align: right;\">\n",
       "      <th></th>\n",
       "      <th>QTDPARTNOR</th>\n",
       "      <th>QTDPARTCES</th>\n",
       "    </tr>\n",
       "    <tr>\n",
       "      <th>munResLat</th>\n",
       "      <th></th>\n",
       "      <th></th>\n",
       "    </tr>\n",
       "  </thead>\n",
       "  <tbody>\n",
       "    <tr>\n",
       "      <th>latitude_abaixo</th>\n",
       "      <td>0.0</td>\n",
       "      <td>0.0</td>\n",
       "    </tr>\n",
       "    <tr>\n",
       "      <th>latitude_acima</th>\n",
       "      <td>0.0</td>\n",
       "      <td>0.0</td>\n",
       "    </tr>\n",
       "  </tbody>\n",
       "</table>\n",
       "</div>"
      ],
      "text/plain": [
       "                 QTDPARTNOR  QTDPARTCES\n",
       "munResLat                              \n",
       "latitude_abaixo         0.0         0.0\n",
       "latitude_acima          0.0         0.0"
      ]
     },
     "execution_count": 56,
     "metadata": {},
     "output_type": "execute_result"
    }
   ],
   "source": [
    "print(\"minimo\")\n",
    "minimo"
   ]
  },
  {
   "cell_type": "code",
   "execution_count": 57,
   "metadata": {},
   "outputs": [
    {
     "name": "stdout",
     "output_type": "stream",
     "text": [
      "maximo\n"
     ]
    },
    {
     "data": {
      "text/html": [
       "<div>\n",
       "<style scoped>\n",
       "    .dataframe tbody tr th:only-of-type {\n",
       "        vertical-align: middle;\n",
       "    }\n",
       "\n",
       "    .dataframe tbody tr th {\n",
       "        vertical-align: top;\n",
       "    }\n",
       "\n",
       "    .dataframe thead th {\n",
       "        text-align: right;\n",
       "    }\n",
       "</style>\n",
       "<table border=\"1\" class=\"dataframe\">\n",
       "  <thead>\n",
       "    <tr style=\"text-align: right;\">\n",
       "      <th></th>\n",
       "      <th>QTDPARTNOR</th>\n",
       "      <th>QTDPARTCES</th>\n",
       "    </tr>\n",
       "    <tr>\n",
       "      <th>munResLat</th>\n",
       "      <th></th>\n",
       "      <th></th>\n",
       "    </tr>\n",
       "  </thead>\n",
       "  <tbody>\n",
       "    <tr>\n",
       "      <th>latitude_abaixo</th>\n",
       "      <td>41.0</td>\n",
       "      <td>12.0</td>\n",
       "    </tr>\n",
       "    <tr>\n",
       "      <th>latitude_acima</th>\n",
       "      <td>40.0</td>\n",
       "      <td>12.0</td>\n",
       "    </tr>\n",
       "  </tbody>\n",
       "</table>\n",
       "</div>"
      ],
      "text/plain": [
       "                 QTDPARTNOR  QTDPARTCES\n",
       "munResLat                              \n",
       "latitude_abaixo        41.0        12.0\n",
       "latitude_acima         40.0        12.0"
      ]
     },
     "execution_count": 57,
     "metadata": {},
     "output_type": "execute_result"
    }
   ],
   "source": [
    "print(\"maximo\")\n",
    "maximo"
   ]
  },
  {
   "cell_type": "code",
   "execution_count": 58,
   "metadata": {},
   "outputs": [
    {
     "name": "stdout",
     "output_type": "stream",
     "text": [
      "desvio_padrao\n"
     ]
    },
    {
     "data": {
      "text/html": [
       "<div>\n",
       "<style scoped>\n",
       "    .dataframe tbody tr th:only-of-type {\n",
       "        vertical-align: middle;\n",
       "    }\n",
       "\n",
       "    .dataframe tbody tr th {\n",
       "        vertical-align: top;\n",
       "    }\n",
       "\n",
       "    .dataframe thead th {\n",
       "        text-align: right;\n",
       "    }\n",
       "</style>\n",
       "<table border=\"1\" class=\"dataframe\">\n",
       "  <thead>\n",
       "    <tr style=\"text-align: right;\">\n",
       "      <th></th>\n",
       "      <th>QTDPARTNOR</th>\n",
       "      <th>QTDPARTCES</th>\n",
       "    </tr>\n",
       "    <tr>\n",
       "      <th>munResLat</th>\n",
       "      <th></th>\n",
       "      <th></th>\n",
       "    </tr>\n",
       "  </thead>\n",
       "  <tbody>\n",
       "    <tr>\n",
       "      <th>latitude_abaixo</th>\n",
       "      <td>1.123426</td>\n",
       "      <td>0.753036</td>\n",
       "    </tr>\n",
       "    <tr>\n",
       "      <th>latitude_acima</th>\n",
       "      <td>1.279042</td>\n",
       "      <td>0.737899</td>\n",
       "    </tr>\n",
       "  </tbody>\n",
       "</table>\n",
       "</div>"
      ],
      "text/plain": [
       "                 QTDPARTNOR  QTDPARTCES\n",
       "munResLat                              \n",
       "latitude_abaixo    1.123426    0.753036\n",
       "latitude_acima     1.279042    0.737899"
      ]
     },
     "execution_count": 58,
     "metadata": {},
     "output_type": "execute_result"
    }
   ],
   "source": [
    "print(\"desvio_padrao\")\n",
    "desvio_padrao"
   ]
  },
  {
   "cell_type": "code",
   "execution_count": 59,
   "metadata": {},
   "outputs": [
    {
     "name": "stdout",
     "output_type": "stream",
     "text": [
      "variancia\n"
     ]
    },
    {
     "data": {
      "text/html": [
       "<div>\n",
       "<style scoped>\n",
       "    .dataframe tbody tr th:only-of-type {\n",
       "        vertical-align: middle;\n",
       "    }\n",
       "\n",
       "    .dataframe tbody tr th {\n",
       "        vertical-align: top;\n",
       "    }\n",
       "\n",
       "    .dataframe thead th {\n",
       "        text-align: right;\n",
       "    }\n",
       "</style>\n",
       "<table border=\"1\" class=\"dataframe\">\n",
       "  <thead>\n",
       "    <tr style=\"text-align: right;\">\n",
       "      <th></th>\n",
       "      <th>QTDPARTNOR</th>\n",
       "      <th>QTDPARTCES</th>\n",
       "    </tr>\n",
       "    <tr>\n",
       "      <th>munResLat</th>\n",
       "      <th></th>\n",
       "      <th></th>\n",
       "    </tr>\n",
       "  </thead>\n",
       "  <tbody>\n",
       "    <tr>\n",
       "      <th>latitude_abaixo</th>\n",
       "      <td>1.262087</td>\n",
       "      <td>0.567062</td>\n",
       "    </tr>\n",
       "    <tr>\n",
       "      <th>latitude_acima</th>\n",
       "      <td>1.635949</td>\n",
       "      <td>0.544495</td>\n",
       "    </tr>\n",
       "  </tbody>\n",
       "</table>\n",
       "</div>"
      ],
      "text/plain": [
       "                 QTDPARTNOR  QTDPARTCES\n",
       "munResLat                              \n",
       "latitude_abaixo    1.262087    0.567062\n",
       "latitude_acima     1.635949    0.544495"
      ]
     },
     "execution_count": 59,
     "metadata": {},
     "output_type": "execute_result"
    }
   ],
   "source": [
    "print(\"variancia\")\n",
    "variancia"
   ]
  },
  {
   "cell_type": "markdown",
   "metadata": {},
   "source": [
    "### 2. Crie 2 faixas da área dos municípios (munResArea) sendo uma acima e outra abaixo de 3000 e aplique o groupby usando essas faixas como chave e realize operações de soma, media, minimo, maximo, mediana, desvio padrao, variancia pra pelo menos 2 variáveis numéricas ainda não utilizadas\n"
   ]
  },
  {
   "cell_type": "code",
   "execution_count": 60,
   "metadata": {},
   "outputs": [],
   "source": [
    "sinasc_area = sinasc_raw[['munResArea', 'QTDPARTNOR', 'QTDPARTCES']]"
   ]
  },
  {
   "cell_type": "code",
   "execution_count": 61,
   "metadata": {},
   "outputs": [],
   "source": [
    "mun_res_lat = sinasc_area['munResArea'].values\n",
    "mun_res_lat\n",
    "mapping_mun_res_area = {}\n",
    "for value in mun_res_lat:\n",
    "    map_dict = {value: 'area_acima' if value > 3_000 else 'area_abaixo'}\n",
    "    mapping_mun_res_area.update(map_dict)"
   ]
  },
  {
   "cell_type": "code",
   "execution_count": 62,
   "metadata": {},
   "outputs": [],
   "source": [
    "sinasc_latitude = sinasc_area.set_index('munResArea')\n",
    "soma = sinasc_latitude.groupby(mapping_mun_res_area).sum(numeric_only=True)\n",
    "media = sinasc_latitude.groupby(mapping_mun_res_area).mean(numeric_only=True)\n",
    "minimo = sinasc_latitude.groupby(mapping_mun_res_area).min(numeric_only=True)\n",
    "maximo = sinasc_latitude.groupby(mapping_mun_res_area).max(numeric_only=True)\n",
    "desvio_padrao = sinasc_latitude.groupby(mapping_mun_res_area).std(numeric_only=True)\n",
    "variancia = sinasc_latitude.groupby(mapping_mun_res_area).var(numeric_only=True)"
   ]
  },
  {
   "cell_type": "code",
   "execution_count": 63,
   "metadata": {},
   "outputs": [
    {
     "name": "stdout",
     "output_type": "stream",
     "text": [
      "soma\n"
     ]
    },
    {
     "data": {
      "text/html": [
       "<div>\n",
       "<style scoped>\n",
       "    .dataframe tbody tr th:only-of-type {\n",
       "        vertical-align: middle;\n",
       "    }\n",
       "\n",
       "    .dataframe tbody tr th {\n",
       "        vertical-align: top;\n",
       "    }\n",
       "\n",
       "    .dataframe thead th {\n",
       "        text-align: right;\n",
       "    }\n",
       "</style>\n",
       "<table border=\"1\" class=\"dataframe\">\n",
       "  <thead>\n",
       "    <tr style=\"text-align: right;\">\n",
       "      <th></th>\n",
       "      <th>QTDPARTNOR</th>\n",
       "      <th>QTDPARTCES</th>\n",
       "    </tr>\n",
       "    <tr>\n",
       "      <th>munResArea</th>\n",
       "      <th></th>\n",
       "      <th></th>\n",
       "    </tr>\n",
       "  </thead>\n",
       "  <tbody>\n",
       "    <tr>\n",
       "      <th>area_abaixo</th>\n",
       "      <td>1912.0</td>\n",
       "      <td>2952.0</td>\n",
       "    </tr>\n",
       "    <tr>\n",
       "      <th>area_acima</th>\n",
       "      <td>12659.0</td>\n",
       "      <td>10184.0</td>\n",
       "    </tr>\n",
       "  </tbody>\n",
       "</table>\n",
       "</div>"
      ],
      "text/plain": [
       "             QTDPARTNOR  QTDPARTCES\n",
       "munResArea                         \n",
       "area_abaixo      1912.0      2952.0\n",
       "area_acima      12659.0     10184.0"
      ]
     },
     "execution_count": 63,
     "metadata": {},
     "output_type": "execute_result"
    }
   ],
   "source": [
    "print(\"soma\")\n",
    "soma"
   ]
  },
  {
   "cell_type": "code",
   "execution_count": 64,
   "metadata": {},
   "outputs": [
    {
     "name": "stdout",
     "output_type": "stream",
     "text": [
      "media\n"
     ]
    },
    {
     "data": {
      "text/html": [
       "<div>\n",
       "<style scoped>\n",
       "    .dataframe tbody tr th:only-of-type {\n",
       "        vertical-align: middle;\n",
       "    }\n",
       "\n",
       "    .dataframe tbody tr th {\n",
       "        vertical-align: top;\n",
       "    }\n",
       "\n",
       "    .dataframe thead th {\n",
       "        text-align: right;\n",
       "    }\n",
       "</style>\n",
       "<table border=\"1\" class=\"dataframe\">\n",
       "  <thead>\n",
       "    <tr style=\"text-align: right;\">\n",
       "      <th></th>\n",
       "      <th>QTDPARTNOR</th>\n",
       "      <th>QTDPARTCES</th>\n",
       "    </tr>\n",
       "    <tr>\n",
       "      <th>munResArea</th>\n",
       "      <th></th>\n",
       "      <th></th>\n",
       "    </tr>\n",
       "  </thead>\n",
       "  <tbody>\n",
       "    <tr>\n",
       "      <th>area_abaixo</th>\n",
       "      <td>0.371334</td>\n",
       "      <td>0.572981</td>\n",
       "    </tr>\n",
       "    <tr>\n",
       "      <th>area_acima</th>\n",
       "      <td>0.632982</td>\n",
       "      <td>0.507070</td>\n",
       "    </tr>\n",
       "  </tbody>\n",
       "</table>\n",
       "</div>"
      ],
      "text/plain": [
       "             QTDPARTNOR  QTDPARTCES\n",
       "munResArea                         \n",
       "area_abaixo    0.371334    0.572981\n",
       "area_acima     0.632982    0.507070"
      ]
     },
     "execution_count": 64,
     "metadata": {},
     "output_type": "execute_result"
    }
   ],
   "source": [
    "print(\"media\")\n",
    "media"
   ]
  },
  {
   "cell_type": "code",
   "execution_count": 65,
   "metadata": {},
   "outputs": [
    {
     "name": "stdout",
     "output_type": "stream",
     "text": [
      "minimo\n"
     ]
    },
    {
     "data": {
      "text/html": [
       "<div>\n",
       "<style scoped>\n",
       "    .dataframe tbody tr th:only-of-type {\n",
       "        vertical-align: middle;\n",
       "    }\n",
       "\n",
       "    .dataframe tbody tr th {\n",
       "        vertical-align: top;\n",
       "    }\n",
       "\n",
       "    .dataframe thead th {\n",
       "        text-align: right;\n",
       "    }\n",
       "</style>\n",
       "<table border=\"1\" class=\"dataframe\">\n",
       "  <thead>\n",
       "    <tr style=\"text-align: right;\">\n",
       "      <th></th>\n",
       "      <th>QTDPARTNOR</th>\n",
       "      <th>QTDPARTCES</th>\n",
       "    </tr>\n",
       "    <tr>\n",
       "      <th>munResArea</th>\n",
       "      <th></th>\n",
       "      <th></th>\n",
       "    </tr>\n",
       "  </thead>\n",
       "  <tbody>\n",
       "    <tr>\n",
       "      <th>area_abaixo</th>\n",
       "      <td>0.0</td>\n",
       "      <td>0.0</td>\n",
       "    </tr>\n",
       "    <tr>\n",
       "      <th>area_acima</th>\n",
       "      <td>0.0</td>\n",
       "      <td>0.0</td>\n",
       "    </tr>\n",
       "  </tbody>\n",
       "</table>\n",
       "</div>"
      ],
      "text/plain": [
       "             QTDPARTNOR  QTDPARTCES\n",
       "munResArea                         \n",
       "area_abaixo         0.0         0.0\n",
       "area_acima          0.0         0.0"
      ]
     },
     "execution_count": 65,
     "metadata": {},
     "output_type": "execute_result"
    }
   ],
   "source": [
    "print(\"minimo\")\n",
    "minimo"
   ]
  },
  {
   "cell_type": "code",
   "execution_count": 66,
   "metadata": {},
   "outputs": [
    {
     "name": "stdout",
     "output_type": "stream",
     "text": [
      "maximo\n"
     ]
    },
    {
     "data": {
      "text/html": [
       "<div>\n",
       "<style scoped>\n",
       "    .dataframe tbody tr th:only-of-type {\n",
       "        vertical-align: middle;\n",
       "    }\n",
       "\n",
       "    .dataframe tbody tr th {\n",
       "        vertical-align: top;\n",
       "    }\n",
       "\n",
       "    .dataframe thead th {\n",
       "        text-align: right;\n",
       "    }\n",
       "</style>\n",
       "<table border=\"1\" class=\"dataframe\">\n",
       "  <thead>\n",
       "    <tr style=\"text-align: right;\">\n",
       "      <th></th>\n",
       "      <th>QTDPARTNOR</th>\n",
       "      <th>QTDPARTCES</th>\n",
       "    </tr>\n",
       "    <tr>\n",
       "      <th>munResArea</th>\n",
       "      <th></th>\n",
       "      <th></th>\n",
       "    </tr>\n",
       "  </thead>\n",
       "  <tbody>\n",
       "    <tr>\n",
       "      <th>area_abaixo</th>\n",
       "      <td>10.0</td>\n",
       "      <td>5.0</td>\n",
       "    </tr>\n",
       "    <tr>\n",
       "      <th>area_acima</th>\n",
       "      <td>41.0</td>\n",
       "      <td>12.0</td>\n",
       "    </tr>\n",
       "  </tbody>\n",
       "</table>\n",
       "</div>"
      ],
      "text/plain": [
       "             QTDPARTNOR  QTDPARTCES\n",
       "munResArea                         \n",
       "area_abaixo        10.0         5.0\n",
       "area_acima         41.0        12.0"
      ]
     },
     "execution_count": 66,
     "metadata": {},
     "output_type": "execute_result"
    }
   ],
   "source": [
    "print(\"maximo\")\n",
    "maximo"
   ]
  },
  {
   "cell_type": "code",
   "execution_count": 67,
   "metadata": {},
   "outputs": [
    {
     "name": "stdout",
     "output_type": "stream",
     "text": [
      "desvio_padrao\n"
     ]
    },
    {
     "data": {
      "text/html": [
       "<div>\n",
       "<style scoped>\n",
       "    .dataframe tbody tr th:only-of-type {\n",
       "        vertical-align: middle;\n",
       "    }\n",
       "\n",
       "    .dataframe tbody tr th {\n",
       "        vertical-align: top;\n",
       "    }\n",
       "\n",
       "    .dataframe thead th {\n",
       "        text-align: right;\n",
       "    }\n",
       "</style>\n",
       "<table border=\"1\" class=\"dataframe\">\n",
       "  <thead>\n",
       "    <tr style=\"text-align: right;\">\n",
       "      <th></th>\n",
       "      <th>QTDPARTNOR</th>\n",
       "      <th>QTDPARTCES</th>\n",
       "    </tr>\n",
       "    <tr>\n",
       "      <th>munResArea</th>\n",
       "      <th></th>\n",
       "      <th></th>\n",
       "    </tr>\n",
       "  </thead>\n",
       "  <tbody>\n",
       "    <tr>\n",
       "      <th>area_abaixo</th>\n",
       "      <td>0.856441</td>\n",
       "      <td>0.749368</td>\n",
       "    </tr>\n",
       "    <tr>\n",
       "      <th>area_acima</th>\n",
       "      <td>1.278932</td>\n",
       "      <td>0.744981</td>\n",
       "    </tr>\n",
       "  </tbody>\n",
       "</table>\n",
       "</div>"
      ],
      "text/plain": [
       "             QTDPARTNOR  QTDPARTCES\n",
       "munResArea                         \n",
       "area_abaixo    0.856441    0.749368\n",
       "area_acima     1.278932    0.744981"
      ]
     },
     "execution_count": 67,
     "metadata": {},
     "output_type": "execute_result"
    }
   ],
   "source": [
    "print(\"desvio_padrao\")\n",
    "desvio_padrao"
   ]
  },
  {
   "cell_type": "code",
   "execution_count": 68,
   "metadata": {},
   "outputs": [
    {
     "name": "stdout",
     "output_type": "stream",
     "text": [
      "variancia\n"
     ]
    },
    {
     "data": {
      "text/html": [
       "<div>\n",
       "<style scoped>\n",
       "    .dataframe tbody tr th:only-of-type {\n",
       "        vertical-align: middle;\n",
       "    }\n",
       "\n",
       "    .dataframe tbody tr th {\n",
       "        vertical-align: top;\n",
       "    }\n",
       "\n",
       "    .dataframe thead th {\n",
       "        text-align: right;\n",
       "    }\n",
       "</style>\n",
       "<table border=\"1\" class=\"dataframe\">\n",
       "  <thead>\n",
       "    <tr style=\"text-align: right;\">\n",
       "      <th></th>\n",
       "      <th>QTDPARTNOR</th>\n",
       "      <th>QTDPARTCES</th>\n",
       "    </tr>\n",
       "    <tr>\n",
       "      <th>munResArea</th>\n",
       "      <th></th>\n",
       "      <th></th>\n",
       "    </tr>\n",
       "  </thead>\n",
       "  <tbody>\n",
       "    <tr>\n",
       "      <th>area_abaixo</th>\n",
       "      <td>0.733490</td>\n",
       "      <td>0.561553</td>\n",
       "    </tr>\n",
       "    <tr>\n",
       "      <th>area_acima</th>\n",
       "      <td>1.635668</td>\n",
       "      <td>0.554997</td>\n",
       "    </tr>\n",
       "  </tbody>\n",
       "</table>\n",
       "</div>"
      ],
      "text/plain": [
       "             QTDPARTNOR  QTDPARTCES\n",
       "munResArea                         \n",
       "area_abaixo    0.733490    0.561553\n",
       "area_acima     1.635668    0.554997"
      ]
     },
     "execution_count": 68,
     "metadata": {},
     "output_type": "execute_result"
    }
   ],
   "source": [
    "print(\"variancia\")\n",
    "variancia"
   ]
  },
  {
   "cell_type": "markdown",
   "metadata": {},
   "source": [
    "### 3. Determine faixas na variável munResAlt e aplique o groupby usando essas faixas como chave e realize operações de soma, media, minimo, maximo, mediana, desvio padrao, variancia pra pelo menos 2 variáveis numéricas ainda não utilizadas"
   ]
  },
  {
   "cell_type": "code",
   "execution_count": 69,
   "metadata": {},
   "outputs": [],
   "source": [
    "sinasc_alt = sinasc_raw[['munResAlt', 'QTDPARTNOR', 'QTDPARTCES']]"
   ]
  },
  {
   "cell_type": "code",
   "execution_count": 70,
   "metadata": {},
   "outputs": [
    {
     "data": {
      "text/plain": [
       "{'count': 27027.0,\n",
       " 'mean': 179.11199911199913,\n",
       " 'std': 123.1383651888263,\n",
       " 'min': 85.0,\n",
       " '25%': 87.0,\n",
       " '50%': 153.0,\n",
       " '75%': 191.0,\n",
       " 'max': 595.0}"
      ]
     },
     "execution_count": 70,
     "metadata": {},
     "output_type": "execute_result"
    }
   ],
   "source": [
    "sinasc_describe = sinasc_alt['munResAlt'].describe().to_dict()\n",
    "sinasc_describe"
   ]
  },
  {
   "cell_type": "code",
   "execution_count": 71,
   "metadata": {},
   "outputs": [],
   "source": [
    "mun_res_lat = sinasc_alt['munResAlt'].values\n",
    "mun_res_lat\n",
    "mapping_mun_res_alt = {}\n",
    "for value in mun_res_lat:\n",
    "    if value < sinasc_describe['25%']:\n",
    "        map_dict = {value: 'primeiro_quartil'}\n",
    "    elif value > sinasc_describe['25%'] and value < sinasc_describe['50%']:\n",
    "        map_dict = {value: 'segundo_quartil'}\n",
    "    elif value > sinasc_describe['50%'] and value < sinasc_describe['75%']:\n",
    "        map_dict = {value: 'terceiro_quartil'}\n",
    "    else:\n",
    "        map_dict = {value: 'quarto_quartil'}\n",
    "    mapping_mun_res_alt.update(map_dict)"
   ]
  },
  {
   "cell_type": "code",
   "execution_count": 72,
   "metadata": {},
   "outputs": [],
   "source": [
    "sinasc_latitude = sinasc_alt.set_index('munResAlt')\n",
    "soma = sinasc_latitude.groupby(mapping_mun_res_alt).sum(numeric_only=True)\n",
    "media = sinasc_latitude.groupby(mapping_mun_res_alt).mean(numeric_only=True)\n",
    "minimo = sinasc_latitude.groupby(mapping_mun_res_alt).min(numeric_only=True)\n",
    "maximo = sinasc_latitude.groupby(mapping_mun_res_alt).max(numeric_only=True)\n",
    "desvio_padrao = sinasc_latitude.groupby(mapping_mun_res_alt).std(numeric_only=True)\n",
    "variancia = sinasc_latitude.groupby(mapping_mun_res_alt).var(numeric_only=True)"
   ]
  },
  {
   "cell_type": "code",
   "execution_count": 73,
   "metadata": {},
   "outputs": [
    {
     "name": "stdout",
     "output_type": "stream",
     "text": [
      "soma\n"
     ]
    },
    {
     "data": {
      "text/html": [
       "<div>\n",
       "<style scoped>\n",
       "    .dataframe tbody tr th:only-of-type {\n",
       "        vertical-align: middle;\n",
       "    }\n",
       "\n",
       "    .dataframe tbody tr th {\n",
       "        vertical-align: top;\n",
       "    }\n",
       "\n",
       "    .dataframe thead th {\n",
       "        text-align: right;\n",
       "    }\n",
       "</style>\n",
       "<table border=\"1\" class=\"dataframe\">\n",
       "  <thead>\n",
       "    <tr style=\"text-align: right;\">\n",
       "      <th></th>\n",
       "      <th>QTDPARTNOR</th>\n",
       "      <th>QTDPARTCES</th>\n",
       "    </tr>\n",
       "    <tr>\n",
       "      <th>munResAlt</th>\n",
       "      <th></th>\n",
       "      <th></th>\n",
       "    </tr>\n",
       "  </thead>\n",
       "  <tbody>\n",
       "    <tr>\n",
       "      <th>primeiro_quartil</th>\n",
       "      <td>308.0</td>\n",
       "      <td>139.0</td>\n",
       "    </tr>\n",
       "    <tr>\n",
       "      <th>quarto_quartil</th>\n",
       "      <td>8405.0</td>\n",
       "      <td>7684.0</td>\n",
       "    </tr>\n",
       "    <tr>\n",
       "      <th>segundo_quartil</th>\n",
       "      <td>3073.0</td>\n",
       "      <td>2003.0</td>\n",
       "    </tr>\n",
       "    <tr>\n",
       "      <th>terceiro_quartil</th>\n",
       "      <td>2785.0</td>\n",
       "      <td>3310.0</td>\n",
       "    </tr>\n",
       "  </tbody>\n",
       "</table>\n",
       "</div>"
      ],
      "text/plain": [
       "                  QTDPARTNOR  QTDPARTCES\n",
       "munResAlt                               \n",
       "primeiro_quartil       308.0       139.0\n",
       "quarto_quartil        8405.0      7684.0\n",
       "segundo_quartil       3073.0      2003.0\n",
       "terceiro_quartil      2785.0      3310.0"
      ]
     },
     "execution_count": 73,
     "metadata": {},
     "output_type": "execute_result"
    }
   ],
   "source": [
    "print(\"soma\")\n",
    "soma"
   ]
  },
  {
   "cell_type": "code",
   "execution_count": 74,
   "metadata": {},
   "outputs": [
    {
     "name": "stdout",
     "output_type": "stream",
     "text": [
      "media\n"
     ]
    },
    {
     "data": {
      "text/html": [
       "<div>\n",
       "<style scoped>\n",
       "    .dataframe tbody tr th:only-of-type {\n",
       "        vertical-align: middle;\n",
       "    }\n",
       "\n",
       "    .dataframe tbody tr th {\n",
       "        vertical-align: top;\n",
       "    }\n",
       "\n",
       "    .dataframe thead th {\n",
       "        text-align: right;\n",
       "    }\n",
       "</style>\n",
       "<table border=\"1\" class=\"dataframe\">\n",
       "  <thead>\n",
       "    <tr style=\"text-align: right;\">\n",
       "      <th></th>\n",
       "      <th>QTDPARTNOR</th>\n",
       "      <th>QTDPARTCES</th>\n",
       "    </tr>\n",
       "    <tr>\n",
       "      <th>munResAlt</th>\n",
       "      <th></th>\n",
       "      <th></th>\n",
       "    </tr>\n",
       "  </thead>\n",
       "  <tbody>\n",
       "    <tr>\n",
       "      <th>primeiro_quartil</th>\n",
       "      <td>1.037037</td>\n",
       "      <td>0.464883</td>\n",
       "    </tr>\n",
       "    <tr>\n",
       "      <th>quarto_quartil</th>\n",
       "      <td>0.591027</td>\n",
       "      <td>0.537155</td>\n",
       "    </tr>\n",
       "    <tr>\n",
       "      <th>segundo_quartil</th>\n",
       "      <td>0.737107</td>\n",
       "      <td>0.480797</td>\n",
       "    </tr>\n",
       "    <tr>\n",
       "      <th>terceiro_quartil</th>\n",
       "      <td>0.431048</td>\n",
       "      <td>0.511908</td>\n",
       "    </tr>\n",
       "  </tbody>\n",
       "</table>\n",
       "</div>"
      ],
      "text/plain": [
       "                  QTDPARTNOR  QTDPARTCES\n",
       "munResAlt                               \n",
       "primeiro_quartil    1.037037    0.464883\n",
       "quarto_quartil      0.591027    0.537155\n",
       "segundo_quartil     0.737107    0.480797\n",
       "terceiro_quartil    0.431048    0.511908"
      ]
     },
     "execution_count": 74,
     "metadata": {},
     "output_type": "execute_result"
    }
   ],
   "source": [
    "print(\"media\")\n",
    "media"
   ]
  },
  {
   "cell_type": "code",
   "execution_count": 75,
   "metadata": {},
   "outputs": [
    {
     "name": "stdout",
     "output_type": "stream",
     "text": [
      "minimo\n"
     ]
    },
    {
     "data": {
      "text/html": [
       "<div>\n",
       "<style scoped>\n",
       "    .dataframe tbody tr th:only-of-type {\n",
       "        vertical-align: middle;\n",
       "    }\n",
       "\n",
       "    .dataframe tbody tr th {\n",
       "        vertical-align: top;\n",
       "    }\n",
       "\n",
       "    .dataframe thead th {\n",
       "        text-align: right;\n",
       "    }\n",
       "</style>\n",
       "<table border=\"1\" class=\"dataframe\">\n",
       "  <thead>\n",
       "    <tr style=\"text-align: right;\">\n",
       "      <th></th>\n",
       "      <th>QTDPARTNOR</th>\n",
       "      <th>QTDPARTCES</th>\n",
       "    </tr>\n",
       "    <tr>\n",
       "      <th>munResAlt</th>\n",
       "      <th></th>\n",
       "      <th></th>\n",
       "    </tr>\n",
       "  </thead>\n",
       "  <tbody>\n",
       "    <tr>\n",
       "      <th>primeiro_quartil</th>\n",
       "      <td>0.0</td>\n",
       "      <td>0.0</td>\n",
       "    </tr>\n",
       "    <tr>\n",
       "      <th>quarto_quartil</th>\n",
       "      <td>0.0</td>\n",
       "      <td>0.0</td>\n",
       "    </tr>\n",
       "    <tr>\n",
       "      <th>segundo_quartil</th>\n",
       "      <td>0.0</td>\n",
       "      <td>0.0</td>\n",
       "    </tr>\n",
       "    <tr>\n",
       "      <th>terceiro_quartil</th>\n",
       "      <td>0.0</td>\n",
       "      <td>0.0</td>\n",
       "    </tr>\n",
       "  </tbody>\n",
       "</table>\n",
       "</div>"
      ],
      "text/plain": [
       "                  QTDPARTNOR  QTDPARTCES\n",
       "munResAlt                               \n",
       "primeiro_quartil         0.0         0.0\n",
       "quarto_quartil           0.0         0.0\n",
       "segundo_quartil          0.0         0.0\n",
       "terceiro_quartil         0.0         0.0"
      ]
     },
     "execution_count": 75,
     "metadata": {},
     "output_type": "execute_result"
    }
   ],
   "source": [
    "print(\"minimo\")\n",
    "minimo"
   ]
  },
  {
   "cell_type": "code",
   "execution_count": 76,
   "metadata": {},
   "outputs": [
    {
     "name": "stdout",
     "output_type": "stream",
     "text": [
      "maximo\n"
     ]
    },
    {
     "data": {
      "text/html": [
       "<div>\n",
       "<style scoped>\n",
       "    .dataframe tbody tr th:only-of-type {\n",
       "        vertical-align: middle;\n",
       "    }\n",
       "\n",
       "    .dataframe tbody tr th {\n",
       "        vertical-align: top;\n",
       "    }\n",
       "\n",
       "    .dataframe thead th {\n",
       "        text-align: right;\n",
       "    }\n",
       "</style>\n",
       "<table border=\"1\" class=\"dataframe\">\n",
       "  <thead>\n",
       "    <tr style=\"text-align: right;\">\n",
       "      <th></th>\n",
       "      <th>QTDPARTNOR</th>\n",
       "      <th>QTDPARTCES</th>\n",
       "    </tr>\n",
       "    <tr>\n",
       "      <th>munResAlt</th>\n",
       "      <th></th>\n",
       "      <th></th>\n",
       "    </tr>\n",
       "  </thead>\n",
       "  <tbody>\n",
       "    <tr>\n",
       "      <th>primeiro_quartil</th>\n",
       "      <td>10.0</td>\n",
       "      <td>4.0</td>\n",
       "    </tr>\n",
       "    <tr>\n",
       "      <th>quarto_quartil</th>\n",
       "      <td>41.0</td>\n",
       "      <td>12.0</td>\n",
       "    </tr>\n",
       "    <tr>\n",
       "      <th>segundo_quartil</th>\n",
       "      <td>14.0</td>\n",
       "      <td>4.0</td>\n",
       "    </tr>\n",
       "    <tr>\n",
       "      <th>terceiro_quartil</th>\n",
       "      <td>9.0</td>\n",
       "      <td>12.0</td>\n",
       "    </tr>\n",
       "  </tbody>\n",
       "</table>\n",
       "</div>"
      ],
      "text/plain": [
       "                  QTDPARTNOR  QTDPARTCES\n",
       "munResAlt                               \n",
       "primeiro_quartil        10.0         4.0\n",
       "quarto_quartil          41.0        12.0\n",
       "segundo_quartil         14.0         4.0\n",
       "terceiro_quartil         9.0        12.0"
      ]
     },
     "execution_count": 76,
     "metadata": {},
     "output_type": "execute_result"
    }
   ],
   "source": [
    "print(\"maximo\")\n",
    "maximo"
   ]
  },
  {
   "cell_type": "code",
   "execution_count": 77,
   "metadata": {},
   "outputs": [
    {
     "name": "stdout",
     "output_type": "stream",
     "text": [
      "desvio_padrao\n"
     ]
    },
    {
     "data": {
      "text/html": [
       "<div>\n",
       "<style scoped>\n",
       "    .dataframe tbody tr th:only-of-type {\n",
       "        vertical-align: middle;\n",
       "    }\n",
       "\n",
       "    .dataframe tbody tr th {\n",
       "        vertical-align: top;\n",
       "    }\n",
       "\n",
       "    .dataframe thead th {\n",
       "        text-align: right;\n",
       "    }\n",
       "</style>\n",
       "<table border=\"1\" class=\"dataframe\">\n",
       "  <thead>\n",
       "    <tr style=\"text-align: right;\">\n",
       "      <th></th>\n",
       "      <th>QTDPARTNOR</th>\n",
       "      <th>QTDPARTCES</th>\n",
       "    </tr>\n",
       "    <tr>\n",
       "      <th>munResAlt</th>\n",
       "      <th></th>\n",
       "      <th></th>\n",
       "    </tr>\n",
       "  </thead>\n",
       "  <tbody>\n",
       "    <tr>\n",
       "      <th>primeiro_quartil</th>\n",
       "      <td>1.525230</td>\n",
       "      <td>0.742708</td>\n",
       "    </tr>\n",
       "    <tr>\n",
       "      <th>quarto_quartil</th>\n",
       "      <td>1.266006</td>\n",
       "      <td>0.750769</td>\n",
       "    </tr>\n",
       "    <tr>\n",
       "      <th>segundo_quartil</th>\n",
       "      <td>1.336577</td>\n",
       "      <td>0.723464</td>\n",
       "    </tr>\n",
       "    <tr>\n",
       "      <th>terceiro_quartil</th>\n",
       "      <td>0.925267</td>\n",
       "      <td>0.750105</td>\n",
       "    </tr>\n",
       "  </tbody>\n",
       "</table>\n",
       "</div>"
      ],
      "text/plain": [
       "                  QTDPARTNOR  QTDPARTCES\n",
       "munResAlt                               \n",
       "primeiro_quartil    1.525230    0.742708\n",
       "quarto_quartil      1.266006    0.750769\n",
       "segundo_quartil     1.336577    0.723464\n",
       "terceiro_quartil    0.925267    0.750105"
      ]
     },
     "execution_count": 77,
     "metadata": {},
     "output_type": "execute_result"
    }
   ],
   "source": [
    "print(\"desvio_padrao\")\n",
    "desvio_padrao"
   ]
  },
  {
   "cell_type": "code",
   "execution_count": 78,
   "metadata": {},
   "outputs": [
    {
     "name": "stdout",
     "output_type": "stream",
     "text": [
      "variancia\n"
     ]
    },
    {
     "data": {
      "text/html": [
       "<div>\n",
       "<style scoped>\n",
       "    .dataframe tbody tr th:only-of-type {\n",
       "        vertical-align: middle;\n",
       "    }\n",
       "\n",
       "    .dataframe tbody tr th {\n",
       "        vertical-align: top;\n",
       "    }\n",
       "\n",
       "    .dataframe thead th {\n",
       "        text-align: right;\n",
       "    }\n",
       "</style>\n",
       "<table border=\"1\" class=\"dataframe\">\n",
       "  <thead>\n",
       "    <tr style=\"text-align: right;\">\n",
       "      <th></th>\n",
       "      <th>QTDPARTNOR</th>\n",
       "      <th>QTDPARTCES</th>\n",
       "    </tr>\n",
       "    <tr>\n",
       "      <th>munResAlt</th>\n",
       "      <th></th>\n",
       "      <th></th>\n",
       "    </tr>\n",
       "  </thead>\n",
       "  <tbody>\n",
       "    <tr>\n",
       "      <th>primeiro_quartil</th>\n",
       "      <td>2.326326</td>\n",
       "      <td>0.551615</td>\n",
       "    </tr>\n",
       "    <tr>\n",
       "      <th>quarto_quartil</th>\n",
       "      <td>1.602772</td>\n",
       "      <td>0.563654</td>\n",
       "    </tr>\n",
       "    <tr>\n",
       "      <th>segundo_quartil</th>\n",
       "      <td>1.786437</td>\n",
       "      <td>0.523401</td>\n",
       "    </tr>\n",
       "    <tr>\n",
       "      <th>terceiro_quartil</th>\n",
       "      <td>0.856119</td>\n",
       "      <td>0.562658</td>\n",
       "    </tr>\n",
       "  </tbody>\n",
       "</table>\n",
       "</div>"
      ],
      "text/plain": [
       "                  QTDPARTNOR  QTDPARTCES\n",
       "munResAlt                               \n",
       "primeiro_quartil    2.326326    0.551615\n",
       "quarto_quartil      1.602772    0.563654\n",
       "segundo_quartil     1.786437    0.523401\n",
       "terceiro_quartil    0.856119    0.562658"
      ]
     },
     "execution_count": 78,
     "metadata": {},
     "output_type": "execute_result"
    }
   ],
   "source": [
    "print(\"variancia\")\n",
    "variancia"
   ]
  },
  {
   "cell_type": "markdown",
   "metadata": {},
   "source": [
    "### 4. Plote no mesmo grafico ao longo do tempo a idade media das mulheres de cada regiao imediatas de rondonia\n",
    "https://pt.wikipedia.org/wiki/Lista_de_regi%C3%B5es_geogr%C3%A1ficas_intermedi%C3%A1rias_e_imediatas_de_Rond%C3%B4nia"
   ]
  },
  {
   "cell_type": "code",
   "execution_count": 79,
   "metadata": {},
   "outputs": [],
   "source": [
    "sinasc_idade_media = sinasc_raw[['munResNome', 'IDADEMAE', 'DTNASC', 'QTDPARTNOR', 'QTDPARTCES']]"
   ]
  },
  {
   "cell_type": "code",
   "execution_count": 80,
   "metadata": {},
   "outputs": [],
   "source": [
    "regioes_geograficas_imediatas_ro = {\n",
    "    \"Porto Velho\": [\n",
    "        \"Candeias do Jamari\",\n",
    "        \"Guajará-Mirim\",\n",
    "        \"Itapuã do Oeste\",\n",
    "        \"Nova Mamoré\",\n",
    "        \"Porto Velho\"\n",
    "    ],\n",
    "    \"Ariquemes\": [\n",
    "        \"Alto Paraíso\",\n",
    "        \"Ariquemes\",\n",
    "        \"Buritis\",\n",
    "        \"Cacaulândia\",\n",
    "        \"Campo Novo de Rondônia\",\n",
    "        \"Cujubim\",\n",
    "        \"Monte Negro\",\n",
    "        \"Rio Crespo\"\n",
    "    ],\n",
    "    \"Jaru\": [\n",
    "        \"Governador Jorge Teixeira\",\n",
    "        \"Jaru\",\n",
    "        \"Machadinho d'Oeste\",\n",
    "        \"Theobroma\",\n",
    "        \"Vale do Anari\"\n",
    "    ],\n",
    "    \"Ji-Paraná\": [\n",
    "        \"Alvorada d'Oeste\",\n",
    "        \"Costa Marques\",\n",
    "        \"Ji-Paraná\",\n",
    "        \"Mirante da Serra\",\n",
    "        \"Nova União\",\n",
    "        \"Ouro Preto do Oeste\",\n",
    "        \"Presidente Médici\",\n",
    "        \"São Francisco do Guaporé\",\n",
    "        \"São Miguel do Guaporé\",\n",
    "        \"Seringueiras\",\n",
    "        \"Teixeirópolis\",\n",
    "        \"Urupá\",\n",
    "        \"Vale do Paraíso\"\n",
    "    ],\n",
    "    \"Cacoal\": [\n",
    "        \"Alta Floresta d'Oeste\",\n",
    "        \"Alto Alegre dos Parecis\",\n",
    "        \"Cacoal\",\n",
    "        \"Castanheiras\",\n",
    "        \"Espigão d'Oeste\",\n",
    "        \"Ministro Andreazza\",\n",
    "        \"Nova Brasilândia d'Oeste\",\n",
    "        \"Novo Horizonte do Oeste\",\n",
    "        \"Parecis\",\n",
    "        \"Pimenta Bueno\",\n",
    "        \"Primavera de Rondônia\",\n",
    "        \"Rolim de Moura\",\n",
    "        \"Santa Luzia d'Oeste\",\n",
    "        \"São Felipe d'Oeste\"\n",
    "    ],\n",
    "    \"Vilhena\": [\n",
    "        \"Cabixi\",\n",
    "        \"Cerejeiras\",\n",
    "        \"Chupinguaia\",\n",
    "        \"Colorado do Oeste\",\n",
    "        \"Corumbiara\",\n",
    "        \"Pimenteiras do Oeste\",\n",
    "        \"Vilhena\"\n",
    "    ]\n",
    "}"
   ]
  },
  {
   "cell_type": "code",
   "execution_count": 81,
   "metadata": {},
   "outputs": [],
   "source": [
    "mapping_mun_res_nome = {}\n",
    "for key in regioes_geograficas_imediatas_ro.keys():\n",
    "    for value in regioes_geograficas_imediatas_ro[key]:\n",
    "        map_dict = {value: key}\n",
    "    mapping_mun_res_nome.update(map_dict)"
   ]
  },
  {
   "cell_type": "code",
   "execution_count": 82,
   "metadata": {},
   "outputs": [
    {
     "data": {
      "text/plain": [
       "<Axes: xlabel='DTNASC,munResNome'>"
      ]
     },
     "execution_count": 82,
     "metadata": {},
     "output_type": "execute_result"
    },
    {
     "data": {
      "image/png": "[encoded data removed]",
      "text/plain": [
       "<Figure size 640x480 with 1 Axes>"
      ]
     },
     "metadata": {},
     "output_type": "display_data"
    }
   ],
   "source": [
    "sinasc_idade_media_plot = sinasc_idade_media.set_index('munResNome')\n",
    "idade_media_mae = sinasc_idade_media_plot.groupby(['DTNASC', mapping_mun_res_nome])['IDADEMAE'].mean(numeric_only=True)\n",
    "idade_media_mae.plot(rot=90)"
   ]
  },
  {
   "cell_type": "markdown",
   "metadata": {},
   "source": [
    "### 5. Utilize a tabela do link abaixo e crie faixas utilizando o mapping e gere agrupamentos utilizando essas faixas como chave\n"
   ]
  },
  {
   "cell_type": "markdown",
   "metadata": {},
   "source": [
    "### 5.1 IDH\n",
    "A - https://pt.wikipedia.org/wiki/Lista_de_munic%C3%ADpios_de_Rond%C3%B4nia_por_IDH-M\n"
   ]
  },
  {
   "attachments": {},
   "cell_type": "markdown",
   "metadata": {},
   "source": [
    "O Índice de Desenvolvimento Humano varia de 0 até 1, e nesta lista é dividido em cinco categorias:\n",
    "\n",
    "IDH muito alto (0,800 – 1,000), \n",
    "\n",
    "IDH alto (0,700 – 0,799), \n",
    "\n",
    "IDH médio (0,600 0,699), \n",
    "\n",
    "IDH baixo (0,500 – 0,599) e \n",
    "\n",
    "IDH muito baixo (0,000 – 0,499)."
   ]
  },
  {
   "cell_type": "code",
   "execution_count": 83,
   "metadata": {},
   "outputs": [],
   "source": [
    "municipios_rondonia_idh = {\n",
    "\"Porto Velho\": 0.736,\t\n",
    "\"Vilhena\": 0.731,\t\n",
    "\"Cacoal\": 0.718,\t\n",
    "\"Ji-Paraná\": 0.714,\t\n",
    "\"Pimenta Bueno\": 0.710,\t\n",
    "\"Ariquemes\": 0.702,\t\n",
    "\"Rolim de Moura\": 0.700,\t\n",
    "\"Cerejeiras\": 0.692,\t\n",
    "\"Jaru\": 0.689,\t\n",
    "\"Colorado do Oeste\": 0.685,\t\n",
    "\"Ouro Preto do Oeste\": 0.682,\t\n",
    "\"Espigão d'Oeste\": 0.672,\t\n",
    "\"Santa Luzia d'Oeste\": 0.670,\t\n",
    "\"Pimenteiras do Oeste\": 0.665,\t\n",
    "\"Presidente Médici\": 0.664,\t\n",
    "\"Castanheiras\": 0.658,\t\n",
    "\"Guajará-Mirim\": 0.657,\t\n",
    "\"Chupinguaia\": 0.652,\t\n",
    "\"Cabixi\": 0.650,\t\n",
    "\"Candeias do Jamari\": 0.649,\t\n",
    "\"São Felipe d'Oeste\": 0.649,\t\n",
    "\"Cacaulândia\": 0.646,\t\n",
    "\"São Miguel do Guaporé\": 0.646,\t\n",
    "\"Mirante da Serra\": 0.643,\t\n",
    "\"Alvorada d'Oeste\": 0.643,\t\n",
    "\"Teixeirópolis\": 0.643,\t\n",
    "\"Nova Brasilândia d'Oeste\": 0.643,\t\n",
    "\"Rio Crespo\": 0.643,\t\n",
    "\"Primavera de Rondônia\": 0.641,\t\n",
    "\"Alta Floresta d'Oeste\": 0.641,\t\n",
    "\"Ministro Andreazza\": 0.638,\t\n",
    "\"Novo Horizonte do Oeste\": 0.634,\t\n",
    "\"Vale do Paraíso\": 0.627,\t\n",
    "\"Alto Paraíso\": 0.625,\t\n",
    "\"Parecis\": 0.617,\t\n",
    "\"Buritis\": 0.616,\t\n",
    "\"Itapuã do Oeste\": 0.614,\t\n",
    "\"Corumbiara\": 0.613,\t\n",
    "\"Cujubim\": 0.612,\t\n",
    "\"Costa Marques\": 0.611,\t\n",
    "\"São Francisco do Guaporé\": 0.611,\t\n",
    "\"Urupá\": 0.609,\t\n",
    "\"Monte Negro\": 0.607,\t\n",
    "\"Seringueiras\": 0.598,\t\n",
    "\"Governador Jorge Teixeira\": 0.596,\t\n",
    "\"Machadinho d'Oeste\": 0.596,\t\n",
    "\"Campo Novo de Rondônia\": 0.593,\t\n",
    "\"Alto Alegre dos Parecis\": 0.592,\t\n",
    "\"Theobroma\": 0.589,\t\n",
    "\"Nova União\": 0.587,\t\n",
    "\"Nova Mamoré\": 0.587,\t\n",
    "\"Vale do Anari\": 0.584\t\n",
    "}\n",
    "\n",
    "mapping_municipios_rondonia_idh = {}\n",
    "for key in municipios_rondonia_idh.keys():\n",
    "    value = municipios_rondonia_idh[key]\n",
    "    if value >= 0.800  :\n",
    "        map_dict = {key: \"Muito Alto\"}\n",
    "    if value >= 0.700 and value <= 0.799:\n",
    "        map_dict = {key: \"Alto\"}\n",
    "    if value >= 0.600 and value <= 0.699: \n",
    "        map_dict = {key: \"Médio\"}\n",
    "    if value >= 0.500 and value <= 0.599:\n",
    "        map_dict = {key: \"Baixo\"}\n",
    "    if value <= 0.499:\n",
    "        map_dict = {key: \"Muito Baixo\"}\n",
    "    mapping_municipios_rondonia_idh.update(map_dict)\n"
   ]
  },
  {
   "cell_type": "code",
   "execution_count": 84,
   "metadata": {},
   "outputs": [
    {
     "data": {
      "text/html": [
       "<div>\n",
       "<style scoped>\n",
       "    .dataframe tbody tr th:only-of-type {\n",
       "        vertical-align: middle;\n",
       "    }\n",
       "\n",
       "    .dataframe tbody tr th {\n",
       "        vertical-align: top;\n",
       "    }\n",
       "\n",
       "    .dataframe thead th {\n",
       "        text-align: right;\n",
       "    }\n",
       "</style>\n",
       "<table border=\"1\" class=\"dataframe\">\n",
       "  <thead>\n",
       "    <tr style=\"text-align: right;\">\n",
       "      <th></th>\n",
       "      <th>IDADEMAE</th>\n",
       "      <th>QTDPARTNOR</th>\n",
       "      <th>QTDPARTCES</th>\n",
       "    </tr>\n",
       "    <tr>\n",
       "      <th>munResNome</th>\n",
       "      <th></th>\n",
       "      <th></th>\n",
       "      <th></th>\n",
       "    </tr>\n",
       "  </thead>\n",
       "  <tbody>\n",
       "    <tr>\n",
       "      <th>Alto</th>\n",
       "      <td>26.280332</td>\n",
       "      <td>0.578495</td>\n",
       "      <td>0.499454</td>\n",
       "    </tr>\n",
       "    <tr>\n",
       "      <th>Baixo</th>\n",
       "      <td>25.269231</td>\n",
       "      <td>0.620232</td>\n",
       "      <td>0.522376</td>\n",
       "    </tr>\n",
       "    <tr>\n",
       "      <th>Médio</th>\n",
       "      <td>25.848191</td>\n",
       "      <td>0.589560</td>\n",
       "      <td>0.548451</td>\n",
       "    </tr>\n",
       "  </tbody>\n",
       "</table>\n",
       "</div>"
      ],
      "text/plain": [
       "             IDADEMAE  QTDPARTNOR  QTDPARTCES\n",
       "munResNome                                   \n",
       "Alto        26.280332    0.578495    0.499454\n",
       "Baixo       25.269231    0.620232    0.522376\n",
       "Médio       25.848191    0.589560    0.548451"
      ]
     },
     "execution_count": 84,
     "metadata": {},
     "output_type": "execute_result"
    }
   ],
   "source": [
    "sinasc_idh = sinasc_idade_media.set_index('munResNome')\n",
    "municipios_rondonia_idh = sinasc_idh.groupby(mapping_municipios_rondonia_idh).mean(numeric_only=True)\n",
    "municipios_rondonia_idh"
   ]
  },
  {
   "cell_type": "markdown",
   "metadata": {},
   "source": [
    "### 5.2 IFDM \n",
    "B - https://pt.wikipedia.org/wiki/Lista_de_munic%C3%ADpios_de_Rond%C3%B4nia_por_IFDM\n"
   ]
  },
  {
   "attachments": {},
   "cell_type": "markdown",
   "metadata": {},
   "source": [
    "Alto, resultados superiores a 0,8 pontos;\n",
    "\n",
    "Moderado, resultados entre 0,6 e 0,8 pontos;\n",
    "\n",
    "Regular, resultados entre 0,4 e 0,6 pontos;\n",
    "\n",
    "Baixo, resultados inferiores a 0,4 pontos;"
   ]
  },
  {
   "cell_type": "code",
   "execution_count": 85,
   "metadata": {},
   "outputs": [],
   "source": [
    "municipios_rondonia_ifdm = {\n",
    "\"Ariquemes\": 0.7746,\n",
    "\"Vilhena\": 0.7465,\n",
    "\"Pimenta Bueno\": 0.7383,\n",
    "\"Porto Velho\": 0.7257,\n",
    "\"Ji-Paraná\": 0.7117,\n",
    "\"Cacoal\": 0.7111,\n",
    "\"Santa Luzia d'Oeste\": 0.6850,\n",
    "\"Rolim de Moura\": 0.6785,\n",
    "\"Chupinguaia\": 0.6766,\n",
    "\"São Miguel do Guaporé\": 0.6699,\n",
    "\"Pimenteiras do Oeste\": 0.6501,\n",
    "\"Teixeirópolis\": 0.6500,\n",
    "\"Colorado do Oeste\": 0.6473,\n",
    "\"Jaru\": 0.6450,\n",
    "\"Rio Crespo\": 0.6430,\n",
    "\"Primavera de Rondônia\": 0.6384,\n",
    "\"Alta Floresta d'Oeste\": 0.6337,\n",
    "\"Ouro Preto do Oeste\": 0.6261,\n",
    "\"São Francisco do Guaporé\": 0.6214,\n",
    "\"Candeias do Jamari\": 0.6199,\n",
    "\"Buritis\": 0.6199,\n",
    "\"São Felipe d'Oeste\": 0.6153,\n",
    "\"Presidente Médici\": 0.6140,\n",
    "\"Cerejeiras\": 0.6137,\n",
    "\"Monte Negro\": 0.6016,\n",
    "\"Urupá\": 0.6006,\n",
    "\"Espigão d'Oeste\": 0.5973,\n",
    "\"Seringueiras\": 0.5922,\n",
    "\"Alvorada d'Oeste\": 0.5919,\n",
    "\"Itapuã do Oeste\": 0.5903,\n",
    "\"Cabixi\": 0.5887,\n",
    "\"Novo Horizonte do Oeste\": 0.5858,\n",
    "\"Nova Brasilândia d'Oeste\": 0.5857,\n",
    "\"Vale do Paraíso\": 0.5818,\n",
    "\"Corumbiara\": 0.5759,\n",
    "\"Alto Paraíso\": 0.5735,\n",
    "\"Cacaulândia\": 0.5721,\n",
    "\"Vale do Anari\": 0.5710,\n",
    "\"Ministro Andreazza\": 0.5657,\n",
    "\"Costa Marques\": 0.5626,\n",
    "\"Nova União\": 0.5571,\n",
    "\"Guajará-Mirim\": 0.5541,\n",
    "\"Mirante da Serra\": 0.5519,\n",
    "\"Parecis\": 0.5502,\n",
    "\"Castanheiras\": 0.5430,\n",
    "\"Theobroma\": 0.5405,\n",
    "\"Machadinho d'Oeste\": 0.5322,\n",
    "\"Campo Novo de Rondônia\": 0.5272,\n",
    "\"Nova Mamoré\": 0.5084,\n",
    "\"Cujubim\": 0.5055,\n",
    "\"Alto Alegre dos Parecis\": 0.5046,\n",
    "\"Governador Jorge Teixeira\": 0.4562\n",
    "}\n",
    "\n",
    "mapping_municipios_rondonia_ifdm = {}\n",
    "for key in municipios_rondonia_ifdm.keys():\n",
    "    value = municipios_rondonia_ifdm[key]\n",
    "    if value > 0.8  :\n",
    "        map_dict = {key: \"Alto\"}\n",
    "    if value > 0.6 and value < 0.8:\n",
    "        map_dict = {key: \"Moderado\"}\n",
    "    if value > 0.4 and value < 0.6:\n",
    "        map_dict = {key: \"Regular\"}\n",
    "    if value < 0.4:\n",
    "        map_dict = {key: \"Baixo\"}\n",
    "    mapping_municipios_rondonia_ifdm.update(map_dict)"
   ]
  },
  {
   "cell_type": "code",
   "execution_count": 86,
   "metadata": {},
   "outputs": [
    {
     "data": {
      "text/html": [
       "<div>\n",
       "<style scoped>\n",
       "    .dataframe tbody tr th:only-of-type {\n",
       "        vertical-align: middle;\n",
       "    }\n",
       "\n",
       "    .dataframe tbody tr th {\n",
       "        vertical-align: top;\n",
       "    }\n",
       "\n",
       "    .dataframe thead th {\n",
       "        text-align: right;\n",
       "    }\n",
       "</style>\n",
       "<table border=\"1\" class=\"dataframe\">\n",
       "  <thead>\n",
       "    <tr style=\"text-align: right;\">\n",
       "      <th></th>\n",
       "      <th>IDADEMAE</th>\n",
       "      <th>QTDPARTNOR</th>\n",
       "      <th>QTDPARTCES</th>\n",
       "    </tr>\n",
       "    <tr>\n",
       "      <th>munResNome</th>\n",
       "      <th></th>\n",
       "      <th></th>\n",
       "      <th></th>\n",
       "    </tr>\n",
       "  </thead>\n",
       "  <tbody>\n",
       "    <tr>\n",
       "      <th>Moderado</th>\n",
       "      <td>26.226921</td>\n",
       "      <td>0.558033</td>\n",
       "      <td>0.517982</td>\n",
       "    </tr>\n",
       "    <tr>\n",
       "      <th>Regular</th>\n",
       "      <td>25.412005</td>\n",
       "      <td>0.728571</td>\n",
       "      <td>0.494034</td>\n",
       "    </tr>\n",
       "  </tbody>\n",
       "</table>\n",
       "</div>"
      ],
      "text/plain": [
       "             IDADEMAE  QTDPARTNOR  QTDPARTCES\n",
       "munResNome                                   \n",
       "Moderado    26.226921    0.558033    0.517982\n",
       "Regular     25.412005    0.728571    0.494034"
      ]
     },
     "execution_count": 86,
     "metadata": {},
     "output_type": "execute_result"
    }
   ],
   "source": [
    "sinasc_ifdm = sinasc_idade_media.set_index('munResNome')\n",
    "municipios_rondonia_ifdm = sinasc_ifdm.groupby(mapping_municipios_rondonia_ifdm).mean(numeric_only=True)\n",
    "municipios_rondonia_ifdm"
   ]
  },
  {
   "cell_type": "markdown",
   "metadata": {},
   "source": [
    "### 5.3 PIB\n",
    "C - https://pt.wikipedia.org/wiki/Lista_de_munic%C3%ADpios_de_Rond%C3%B4nia_por_PIB\n"
   ]
  },
  {
   "cell_type": "markdown",
   "metadata": {},
   "source": [
    "### Analise as respostas encontradas, tire algum insight delas, conte pra gente algo encontrado nos dados."
   ]
  },
  {
   "cell_type": "code",
   "execution_count": 87,
   "metadata": {},
   "outputs": [],
   "source": [
    "municipios_rondonia_pib = {\n",
    "\"Porto Velho\":17_912_070,\n",
    "\"Ji-Paraná\":3_783_972,\n",
    "\"Vilhena\":2_831_175,\n",
    "\"Ariquemes\":2_579_830,\n",
    "\"Cacoal\":2_261_644,\n",
    "\"Jaru\":1_500_890,\n",
    "\"Rolim de Moura\":1_283_434,\n",
    "\"Pimenta Bueno\":1_164_877,\n",
    "\"Guajará-Mirim\":893_000,\n",
    "\"Ouro Preto do Oeste\":834_000,\n",
    "\"Buritis\":726_000,\n",
    "\"Machadinho do Oeste\":633_000,\n",
    "\"Espigão d'Oeste\":625_000,\n",
    "\"São Miguel do Guaporé\":616_000,\n",
    "\"Candeias do Jamari\":548_000,\n",
    "\"Nova Mamoré\":529_000,\n",
    "\"Cerejeiras\":507_000,\n",
    "\"Alta Floresta do Oeste\":496_000,\n",
    "\"Presidente Médici\":428_000,\n",
    "\"Cujubim\":385_000,\n",
    "\"Nova Brasilândia do Oeste\":360_000,\n",
    "\"Alto Paraíso\":358_000,\n",
    "\"São Francisco do Guaporé\":353_000,\n",
    "\"Colorado do Oeste\":335_000,\n",
    "\"Monte Negro\":219_152,\n",
    "\"Alto Alegre dos Parecis\":213_410,\n",
    "\"Campo Novo de Rondônia\":208_821,\n",
    "\"Alvorada do Oeste\":204_098,\n",
    "\"Chupinguaia\":190_331,\n",
    "\"Corumbiara\":188_218,\n",
    "\"Ministro Andreazza\":174_633,\n",
    "\"Urupá\":172_143,\n",
    "\"Costa Marques\":171_878,\n",
    "\"Seringueiras\":169_429,\n",
    "\"Mirante da Serra\":163_955,\n",
    "\"Governador Jorge Teixeira\":148_027,\n",
    "\"Theobroma\":140_601,\n",
    "\"Santa Luzia do Oeste\":135_934,\n",
    "\"Novo Horizonte do Oeste\":129_399,\n",
    "\"Itapuã do Oeste\":129_351,\n",
    "\"Vale do Paraíso\":116_742,\n",
    "\"Cacaulândia\":116_635,\n",
    "\"Cabixi\":113_031,\n",
    "\"Vale do Anari\":105_208,\n",
    "\"Nova União\":92_346,\n",
    "\"Parecis\":80_759,\n",
    "\"Rio Crespo\":76_854,\n",
    "\"Pimenteiras do Oeste\":76_756,\n",
    "\"Teixeirópolis\":72_089,\n",
    "\"São Felipe do Oeste\":72_084,\n",
    "\"Castanheiras\":59_779,\n",
    "\"Primavera de Rondônia\":52_908\n",
    "}\n",
    "\n",
    "mapping_municipios_rondonia_pib = {}\n",
    "for key in municipios_rondonia_pib.keys():\n",
    "    value = municipios_rondonia_pib[key]\n",
    "    if value > 1_000_000  :\n",
    "        map_dict = {key: \"Acima de 1 Bilhão\"}\n",
    "    if value > 500_000 and value < 1_000_000:\n",
    "        map_dict = {key: \"Acima de 500 Milhões\"}\n",
    "    if value > 300_000 and value < 500_000:\n",
    "        map_dict = {key: \"Acima de 300 Milhões\"}\n",
    "    if value > 200_000 and value < 300_000:\n",
    "        map_dict = {key: \"Acima de 200 Milhões\"}\n",
    "    if value > 100_000 and value < 200_000:\n",
    "        map_dict = {key: \"Acima de 100 Milhões\"}\n",
    "    if value < 100_00:\n",
    "        map_dict = {key: \"Até 100 Milhões\"}\n",
    "    mapping_municipios_rondonia_pib.update(map_dict)"
   ]
  },
  {
   "cell_type": "code",
   "execution_count": 88,
   "metadata": {},
   "outputs": [
    {
     "data": {
      "text/html": [
       "<div>\n",
       "<style scoped>\n",
       "    .dataframe tbody tr th:only-of-type {\n",
       "        vertical-align: middle;\n",
       "    }\n",
       "\n",
       "    .dataframe tbody tr th {\n",
       "        vertical-align: top;\n",
       "    }\n",
       "\n",
       "    .dataframe thead th {\n",
       "        text-align: right;\n",
       "    }\n",
       "</style>\n",
       "<table border=\"1\" class=\"dataframe\">\n",
       "  <thead>\n",
       "    <tr style=\"text-align: right;\">\n",
       "      <th></th>\n",
       "      <th>IDADEMAE</th>\n",
       "      <th>QTDPARTNOR</th>\n",
       "      <th>QTDPARTCES</th>\n",
       "    </tr>\n",
       "    <tr>\n",
       "      <th>munResNome</th>\n",
       "      <th></th>\n",
       "      <th></th>\n",
       "      <th></th>\n",
       "    </tr>\n",
       "  </thead>\n",
       "  <tbody>\n",
       "    <tr>\n",
       "      <th>Acima de 1 Bilhão</th>\n",
       "      <td>26.265562</td>\n",
       "      <td>0.569137</td>\n",
       "      <td>0.499939</td>\n",
       "    </tr>\n",
       "    <tr>\n",
       "      <th>Acima de 100 Milhões</th>\n",
       "      <td>25.638424</td>\n",
       "      <td>0.487603</td>\n",
       "      <td>0.522602</td>\n",
       "    </tr>\n",
       "    <tr>\n",
       "      <th>Acima de 200 Milhões</th>\n",
       "      <td>25.146435</td>\n",
       "      <td>0.531674</td>\n",
       "      <td>0.623126</td>\n",
       "    </tr>\n",
       "    <tr>\n",
       "      <th>Acima de 300 Milhões</th>\n",
       "      <td>25.706070</td>\n",
       "      <td>0.527082</td>\n",
       "      <td>0.552674</td>\n",
       "    </tr>\n",
       "    <tr>\n",
       "      <th>Acima de 500 Milhões</th>\n",
       "      <td>25.785927</td>\n",
       "      <td>0.773682</td>\n",
       "      <td>0.545637</td>\n",
       "    </tr>\n",
       "  </tbody>\n",
       "</table>\n",
       "</div>"
      ],
      "text/plain": [
       "                       IDADEMAE  QTDPARTNOR  QTDPARTCES\n",
       "munResNome                                             \n",
       "Acima de 1 Bilhão     26.265562    0.569137    0.499939\n",
       "Acima de 100 Milhões  25.638424    0.487603    0.522602\n",
       "Acima de 200 Milhões  25.146435    0.531674    0.623126\n",
       "Acima de 300 Milhões  25.706070    0.527082    0.552674\n",
       "Acima de 500 Milhões  25.785927    0.773682    0.545637"
      ]
     },
     "execution_count": 88,
     "metadata": {},
     "output_type": "execute_result"
    }
   ],
   "source": [
    "sinasc_pib = sinasc_idade_media.set_index('munResNome')\n",
    "municipios_rondonia_pib = sinasc_pib.groupby(mapping_municipios_rondonia_pib).mean(numeric_only=True)\n",
    "municipios_rondonia_pib"
   ]
  },
  {
   "cell_type": "markdown",
   "metadata": {},
   "source": [
    "Exemplo:\n",
    "- Ah, descobri que a idade mediana das mulheres que deram a luz no ano de 2019 dos municipios com o PIB mais alto é a maior dentre todas."
   ]
  },
  {
   "attachments": {},
   "cell_type": "markdown",
   "metadata": {},
   "source": [
    "Observando a comparação entre parto normal e cesariana em relação ao idh, ifdm e pib, somente os municipios mapeados pelo pib apresentam maior quantidade de partos normais quando o pib é abaixo de 500 milhões."
   ]
  }
 ],
 "metadata": {
  "kernelspec": {
   "display_name": "venv",
   "language": "python",
   "name": "python3"
  },
  "language_info": {
   "codemirror_mode": {
    "name": "ipython",
    "version": 3
   },
   "file_extension": ".py",
   "mimetype": "text/x-python",
   "name": "python",
   "nbconvert_exporter": "python",
   "pygments_lexer": "ipython3",
   "version": "3.8.10"
  },
  "varInspector": {
   "cols": {
    "lenName": 16,
    "lenType": 16,
    "lenVar": 40
   },
   "kernels_config": {
    "python": {
     "delete_cmd_postfix": "",
     "delete_cmd_prefix": "del ",
     "library": "var_list.py",
     "varRefreshCmd": "print(var_dic_list())"
    },
    "r": {
     "delete_cmd_postfix": ") ",
     "delete_cmd_prefix": "rm(",
     "library": "var_list.r",
     "varRefreshCmd": "cat(var_dic_list()) "
    }
   },
   "types_to_exclude": [
    "module",
    "function",
    "builtin_function_or_method",
    "instance",
    "_Feature"
   ],
   "window_display": false
  },
  "vscode": {
   "interpreter": {
    "hash": "1aadb28b48cd22ecb7fa1a5481c3715faded38ca6a72ee8abbebb0a73a54610e"
   }
  }
 },
 "nbformat": 4,
 "nbformat_minor": 4
}
