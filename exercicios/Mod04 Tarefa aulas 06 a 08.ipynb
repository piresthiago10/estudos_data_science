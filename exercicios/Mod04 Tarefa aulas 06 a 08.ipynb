{
 "cells": [
  {
   "cell_type": "markdown",
   "metadata": {},
   "source": [
    "# Tarefa 03\n",
    "\n",
    "- Leia os enunciados com atenção\n",
    "- Saiba que pode haver mais de uma resposta correta\n",
    "- Insira novas células de código sempre que achar necessário\n",
    "- Em caso de dúvidas, procure os Tutores\n",
    "- Divirta-se :)"
   ]
  },
  {
   "cell_type": "code",
   "execution_count": 1,
   "metadata": {},
   "outputs": [],
   "source": [
    "import pandas as pd\n",
    "import requests"
   ]
  },
  {
   "cell_type": "markdown",
   "metadata": {},
   "source": [
    "####  1) Lendo de APIs\n",
    "Vimos em aula como carregar dados públicos do governo através de um API (*Application Programming Interface*). No exemplo de aula, baixamos os dados de pedidos de verificação de limites (PVL) realizados por estados, e selecionamos apenas aqueles referentes ao estado de São Paulo.\n",
    "\n",
    "1. Repita os mesmos passos feitos em aula, mas selecione os PVLs realizados por municípios no estado do Rio de Janeiro.\n",
    "2. Quais são os três *status* das solicitações mais frequentes na base? Quais são suas frequências?\n",
    "3. Construa uma nova variável que contenha o ano do **status**. Observe que ```data_status``` vem como tipo *object* no **DataFrame**. Dica: você pode usar o método ```.str``` para transformar o tipo da variável em string, em seguida um método como [**slice()**](https://pandas.pydata.org/docs/reference/api/pandas.Series.str.slice.html) ou [**split()**](https://pandas.pydata.org/pandas-docs/stable/reference/api/pandas.Series.str.split.html).\n",
    "4. Indique a frequência de cada ano do campo construído no item (3)."
   ]
  },
  {
   "cell_type": "code",
   "execution_count": 16,
   "metadata": {},
   "outputs": [],
   "source": [
    "# 1) Seu código aqui\n",
    "url = 'http://apidatalake.tesouro.gov.br/ords/sadipem/tt/pvl?uf=RJ&tipo_interessado=Estado'\n",
    "r = requests.get(url)\n",
    "r.status_code\n",
    "data_json = r.json()\n",
    "estados_df = pd.DataFrame(data_json['items'])"
   ]
  },
  {
   "cell_type": "code",
   "execution_count": 55,
   "metadata": {},
   "outputs": [
    {
     "data": {
      "text/plain": [
       "Encaminhado à PGFN com manifestação técnica favorável    34\n",
       "Deferido                                                 14\n",
       "Arquivado a pedido                                        3\n",
       "Arquivado por decurso de prazo                            1\n",
       "Name: status, dtype: int64"
      ]
     },
     "execution_count": 55,
     "metadata": {},
     "output_type": "execute_result"
    }
   ],
   "source": [
    "# 2) Seu código aqui\n",
    "estados_df['status'].value_counts()"
   ]
  },
  {
   "cell_type": "code",
   "execution_count": 59,
   "metadata": {},
   "outputs": [
    {
     "data": {
      "text/plain": [
       "0     2002\n",
       "1     2012\n",
       "2     2016\n",
       "3     2011\n",
       "4     2012\n",
       "5     2009\n",
       "6     2012\n",
       "7     2012\n",
       "8     2012\n",
       "9     2002\n",
       "10    2013\n",
       "11    2013\n",
       "12    2013\n",
       "13    2011\n",
       "14    2012\n",
       "15    2013\n",
       "16    2010\n",
       "17    2012\n",
       "18    2014\n",
       "19    2014\n",
       "20    2012\n",
       "21    2008\n",
       "22    2009\n",
       "23    2002\n",
       "24    2013\n",
       "25    2012\n",
       "26    2011\n",
       "27    2006\n",
       "28    2009\n",
       "29    2011\n",
       "30    2011\n",
       "31    2006\n",
       "32    2009\n",
       "33    2016\n",
       "34    2008\n",
       "35    2014\n",
       "36    2013\n",
       "37    2009\n",
       "38    2016\n",
       "39    2014\n",
       "40    2010\n",
       "41    2002\n",
       "42    2009\n",
       "43    2012\n",
       "44    2009\n",
       "45    2016\n",
       "46    2012\n",
       "47    2010\n",
       "48    2011\n",
       "49    2009\n",
       "50    2013\n",
       "51    2009\n",
       "Name: 2, dtype: object"
      ]
     },
     "execution_count": 59,
     "metadata": {},
     "output_type": "execute_result"
    }
   ],
   "source": [
    "# 3) Seu código aqui\n",
    "ano_status = estados_df['data_status'].str.split('/', expand=True)[2]\n",
    "ano_status"
   ]
  },
  {
   "cell_type": "code",
   "execution_count": 60,
   "metadata": {},
   "outputs": [
    {
     "data": {
      "text/plain": [
       "2012    11\n",
       "2009     9\n",
       "2013     7\n",
       "2011     6\n",
       "2002     4\n",
       "2016     4\n",
       "2014     4\n",
       "2010     3\n",
       "2008     2\n",
       "2006     2\n",
       "Name: 2, dtype: int64"
      ]
     },
     "execution_count": 60,
     "metadata": {},
     "output_type": "execute_result"
    }
   ],
   "source": [
    "# 4\n",
    "ano_status.value_counts()"
   ]
  },
  {
   "cell_type": "markdown",
   "metadata": {},
   "source": [
    "####  2) Melhorando a interação com o API\n",
    "Observe dois URLs de consultas diferentes, por exemplo o URL utilizado em aula, e o URL feito no exercício anterior. Compare-os e observe as diferenças.\n",
    "\n",
    "1. Faça uma função em Python que recebe como argumento o UF da consulta e o tipo de interessado (```'Estado'```ou ```Município```), e que devolve os dados da consulta no formato *DataFrame*.\n",
    "2. Quantas solicitações para o Estado podem ser consultadas para Minas Gerais com *status* em 'Arquivado por decurso de prazo' estão registradas?\n",
    "3. Qual é o município da Bahia com mais solicitações deferidas?\n",
    "4. Salve um arquivo .csv com os dados de solicitações da Bahia, com interessado = 'Estado'"
   ]
  },
  {
   "cell_type": "code",
   "execution_count": 65,
   "metadata": {},
   "outputs": [],
   "source": [
    "#1) Seu código aqui\n",
    "def handle_api(uf: str, tipo:str) -> pd.DataFrame():\n",
    "    url = f\"http://apidatalake.tesouro.gov.br/ords/sadipem/tt/pvl?uf={uf.upper()}&tipo_interessado={tipo.capitalize()}\"\n",
    "    r = requests.get(url)\n",
    "    r.status_code\n",
    "    data_json = r.json()\n",
    "    return pd.DataFrame(data_json['items'])"
   ]
  },
  {
   "cell_type": "code",
   "execution_count": 90,
   "metadata": {},
   "outputs": [
    {
     "data": {
      "text/plain": [
       "1"
      ]
     },
     "execution_count": 90,
     "metadata": {},
     "output_type": "execute_result"
    }
   ],
   "source": [
    "# 2) Seu código aqui\n",
    "pd_minas = handle_api(\"mg\", \"estado\")\n",
    "minas_count = pd_minas[pd_minas['status'] == \"Arquivado por decurso de prazo\"].count()\n",
    "minas_count[minas_count['status']]"
   ]
  },
  {
   "cell_type": "code",
   "execution_count": 97,
   "metadata": {},
   "outputs": [
    {
     "data": {
      "text/plain": [
       "Camaçari                  19\n",
       "Salvador                  17\n",
       "Luís Eduardo Magalhães    15\n",
       "Vitória da Conquista      14\n",
       "Amargosa                  14\n",
       "                          ..\n",
       "Monte Santo                1\n",
       "Cravolândia                1\n",
       "Taperoá                    1\n",
       "Nova Ibiá                  1\n",
       "Barro Alto                 1\n",
       "Name: interessado, Length: 289, dtype: int64"
      ]
     },
     "execution_count": 97,
     "metadata": {},
     "output_type": "execute_result"
    }
   ],
   "source": [
    "# 3) Seu código aqui\n",
    "pd_bahia = handle_api(\"ba\", \"município\")\n",
    "pd_bahia['interessado'].value_counts()"
   ]
  },
  {
   "cell_type": "code",
   "execution_count": 98,
   "metadata": {},
   "outputs": [],
   "source": [
    "# 4) Seu código aqui\n",
    "pd_bahia = handle_api(\"ba\", \"estado\")"
   ]
  },
  {
   "cell_type": "code",
   "execution_count": 101,
   "metadata": {},
   "outputs": [],
   "source": [
    "pd_bahia.to_csv(\"dados_bahia.csv\")"
   ]
  },
  {
   "cell_type": "code",
   "execution_count": null,
   "metadata": {},
   "outputs": [],
   "source": []
  }
 ],
 "metadata": {
  "kernelspec": {
   "display_name": "Python 3",
   "language": "python",
   "name": "python3"
  },
  "language_info": {
   "codemirror_mode": {
    "name": "ipython",
    "version": 3
   },
   "file_extension": ".py",
   "mimetype": "text/x-python",
   "name": "python",
   "nbconvert_exporter": "python",
   "pygments_lexer": "ipython3",
   "version": "3.8.10"
  },
  "vscode": {
   "interpreter": {
    "hash": "916dbcbb3f70747c44a77c7bcd40155683ae19c65e1c03b4aa3499c5328201f1"
   }
  }
 },
 "nbformat": 4,
 "nbformat_minor": 4
}
