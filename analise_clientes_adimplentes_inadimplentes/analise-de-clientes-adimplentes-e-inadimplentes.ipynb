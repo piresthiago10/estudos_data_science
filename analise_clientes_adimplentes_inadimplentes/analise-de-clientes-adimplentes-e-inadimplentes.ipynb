{
 "cells": [
  {
   "cell_type": "markdown",
   "id": "29d14d18",
   "metadata": {
    "papermill": {
     "duration": 0.010424,
     "end_time": "2023-02-01T18:55:32.351558",
     "exception": false,
     "start_time": "2023-02-01T18:55:32.341134",
     "status": "completed"
    },
    "tags": []
   },
   "source": [
    "# **Análise de Clientes Adimplentes e Inadimplentes**"
   ]
  },
  {
   "cell_type": "markdown",
   "id": "f16fb0c4",
   "metadata": {
    "papermill": {
     "duration": 0.008321,
     "end_time": "2023-02-01T18:55:32.368878",
     "exception": false,
     "start_time": "2023-02-01T18:55:32.360557",
     "status": "completed"
    },
    "tags": []
   },
   "source": [
    "Analise realizada para identificar possíveis clientes inadimplentes através da exploração dos gráficos gerados pelos dados diponíveis. "
   ]
  },
  {
   "cell_type": "markdown",
   "id": "1a73a43b",
   "metadata": {
    "papermill": {
     "duration": 0.008215,
     "end_time": "2023-02-01T18:55:32.385735",
     "exception": false,
     "start_time": "2023-02-01T18:55:32.377520",
     "status": "completed"
    },
    "tags": []
   },
   "source": [
    "## Importações:"
   ]
  },
  {
   "cell_type": "code",
   "execution_count": 1,
   "id": "109532b4",
   "metadata": {
    "execution": {
     "iopub.execute_input": "2023-02-01T18:55:32.405554Z",
     "iopub.status.busy": "2023-02-01T18:55:32.404591Z",
     "iopub.status.idle": "2023-02-01T18:55:33.564658Z",
     "shell.execute_reply": "2023-02-01T18:55:33.563490Z"
    },
    "papermill": {
     "duration": 1.173326,
     "end_time": "2023-02-01T18:55:33.567654",
     "exception": false,
     "start_time": "2023-02-01T18:55:32.394328",
     "status": "completed"
    },
    "tags": []
   },
   "outputs": [],
   "source": [
    "import pandas as pd\n",
    "import seaborn as sns\n",
    "import matplotlib.pyplot as plt"
   ]
  },
  {
   "cell_type": "markdown",
   "id": "63d7f4a3",
   "metadata": {
    "papermill": {
     "duration": 0.00825,
     "end_time": "2023-02-01T18:55:33.585607",
     "exception": false,
     "start_time": "2023-02-01T18:55:33.577357",
     "status": "completed"
    },
    "tags": []
   },
   "source": [
    " ## Leitura dos Dados:"
   ]
  },
  {
   "cell_type": "code",
   "execution_count": 2,
   "id": "c7e0cabc",
   "metadata": {
    "execution": {
     "iopub.execute_input": "2023-02-01T18:55:33.605579Z",
     "iopub.status.busy": "2023-02-01T18:55:33.604513Z",
     "iopub.status.idle": "2023-02-01T18:55:33.671023Z",
     "shell.execute_reply": "2023-02-01T18:55:33.669930Z"
    },
    "papermill": {
     "duration": 0.079666,
     "end_time": "2023-02-01T18:55:33.673852",
     "exception": false,
     "start_time": "2023-02-01T18:55:33.594186",
     "status": "completed"
    },
    "tags": []
   },
   "outputs": [],
   "source": [
    "df = pd.read_csv('/kaggle/input/customer-loan/customer_loan_analysis.csv', na_values='na')"
   ]
  },
  {
   "cell_type": "markdown",
   "id": "d6fc0557",
   "metadata": {
    "papermill": {
     "duration": 0.008084,
     "end_time": "2023-02-01T18:55:33.690800",
     "exception": false,
     "start_time": "2023-02-01T18:55:33.682716",
     "status": "completed"
    },
    "tags": []
   },
   "source": [
    "## Estrutura dos dados recebidos:"
   ]
  },
  {
   "cell_type": "code",
   "execution_count": 3,
   "id": "7f8163a1",
   "metadata": {
    "execution": {
     "iopub.execute_input": "2023-02-01T18:55:33.711823Z",
     "iopub.status.busy": "2023-02-01T18:55:33.711118Z",
     "iopub.status.idle": "2023-02-01T18:55:33.732481Z",
     "shell.execute_reply": "2023-02-01T18:55:33.731263Z"
    },
    "papermill": {
     "duration": 0.034714,
     "end_time": "2023-02-01T18:55:33.735297",
     "exception": false,
     "start_time": "2023-02-01T18:55:33.700583",
     "status": "completed"
    },
    "tags": []
   },
   "outputs": [
    {
     "name": "stdout",
     "output_type": "stream",
     "text": [
      "A proporcão clientes adimplentes é de 83.93%\n",
      "A proporcão clientes inadimplentes é de 16.07%\n"
     ]
    }
   ],
   "source": [
    "qtd_total, _ = df.shape\n",
    "qtd_adimplentes, _ = df[df['default'] == 0].shape\n",
    "qtd_inadimplentes, _ = df[df['default'] == 1].shape\n",
    "print(f\"A proporcão clientes adimplentes é de {round(100 * qtd_adimplentes / qtd_total, 2)}%\")\n",
    "print(f\"A proporcão clientes inadimplentes é de {round(100 * qtd_inadimplentes / qtd_total, 2)}%\")"
   ]
  },
  {
   "cell_type": "markdown",
   "id": "dff751f0",
   "metadata": {
    "papermill": {
     "duration": 0.008304,
     "end_time": "2023-02-01T18:55:33.753211",
     "exception": false,
     "start_time": "2023-02-01T18:55:33.744907",
     "status": "completed"
    },
    "tags": []
   },
   "source": [
    "## Schema:"
   ]
  },
  {
   "cell_type": "code",
   "execution_count": 4,
   "id": "ae6fbd6a",
   "metadata": {
    "execution": {
     "iopub.execute_input": "2023-02-01T18:55:33.772753Z",
     "iopub.status.busy": "2023-02-01T18:55:33.772248Z",
     "iopub.status.idle": "2023-02-01T18:55:33.801124Z",
     "shell.execute_reply": "2023-02-01T18:55:33.799655Z"
    },
    "papermill": {
     "duration": 0.043057,
     "end_time": "2023-02-01T18:55:33.805175",
     "exception": false,
     "start_time": "2023-02-01T18:55:33.762118",
     "status": "completed"
    },
    "tags": []
   },
   "outputs": [
    {
     "data": {
      "text/html": [
       "<div>\n",
       "<style scoped>\n",
       "    .dataframe tbody tr th:only-of-type {\n",
       "        vertical-align: middle;\n",
       "    }\n",
       "\n",
       "    .dataframe tbody tr th {\n",
       "        vertical-align: top;\n",
       "    }\n",
       "\n",
       "    .dataframe thead th {\n",
       "        text-align: right;\n",
       "    }\n",
       "</style>\n",
       "<table border=\"1\" class=\"dataframe\">\n",
       "  <thead>\n",
       "    <tr style=\"text-align: right;\">\n",
       "      <th></th>\n",
       "      <th>id</th>\n",
       "      <th>default</th>\n",
       "      <th>idade</th>\n",
       "      <th>sexo</th>\n",
       "      <th>dependentes</th>\n",
       "      <th>escolaridade</th>\n",
       "      <th>estado_civil</th>\n",
       "      <th>salario_anual</th>\n",
       "      <th>tipo_cartao</th>\n",
       "      <th>meses_de_relacionamento</th>\n",
       "      <th>qtd_produtos</th>\n",
       "      <th>iteracoes_12m</th>\n",
       "      <th>meses_inativo_12m</th>\n",
       "      <th>limite_credito</th>\n",
       "      <th>valor_transacoes_12m</th>\n",
       "      <th>qtd_transacoes_12m</th>\n",
       "    </tr>\n",
       "  </thead>\n",
       "  <tbody>\n",
       "    <tr>\n",
       "      <th>0</th>\n",
       "      <td>768805383</td>\n",
       "      <td>0</td>\n",
       "      <td>45</td>\n",
       "      <td>M</td>\n",
       "      <td>3</td>\n",
       "      <td>ensino medio</td>\n",
       "      <td>casado</td>\n",
       "      <td>$60K - $80K</td>\n",
       "      <td>blue</td>\n",
       "      <td>39</td>\n",
       "      <td>5</td>\n",
       "      <td>3</td>\n",
       "      <td>1</td>\n",
       "      <td>12.691,51</td>\n",
       "      <td>1.144,90</td>\n",
       "      <td>42</td>\n",
       "    </tr>\n",
       "    <tr>\n",
       "      <th>1</th>\n",
       "      <td>818770008</td>\n",
       "      <td>0</td>\n",
       "      <td>49</td>\n",
       "      <td>F</td>\n",
       "      <td>5</td>\n",
       "      <td>mestrado</td>\n",
       "      <td>solteiro</td>\n",
       "      <td>menos que $40K</td>\n",
       "      <td>blue</td>\n",
       "      <td>44</td>\n",
       "      <td>6</td>\n",
       "      <td>2</td>\n",
       "      <td>1</td>\n",
       "      <td>8.256,96</td>\n",
       "      <td>1.291,45</td>\n",
       "      <td>33</td>\n",
       "    </tr>\n",
       "    <tr>\n",
       "      <th>2</th>\n",
       "      <td>713982108</td>\n",
       "      <td>0</td>\n",
       "      <td>51</td>\n",
       "      <td>M</td>\n",
       "      <td>3</td>\n",
       "      <td>mestrado</td>\n",
       "      <td>casado</td>\n",
       "      <td>$80K - $120K</td>\n",
       "      <td>blue</td>\n",
       "      <td>36</td>\n",
       "      <td>4</td>\n",
       "      <td>0</td>\n",
       "      <td>1</td>\n",
       "      <td>3.418,56</td>\n",
       "      <td>1.887,72</td>\n",
       "      <td>20</td>\n",
       "    </tr>\n",
       "    <tr>\n",
       "      <th>3</th>\n",
       "      <td>769911858</td>\n",
       "      <td>0</td>\n",
       "      <td>40</td>\n",
       "      <td>F</td>\n",
       "      <td>4</td>\n",
       "      <td>ensino medio</td>\n",
       "      <td>NaN</td>\n",
       "      <td>menos que $40K</td>\n",
       "      <td>blue</td>\n",
       "      <td>34</td>\n",
       "      <td>3</td>\n",
       "      <td>1</td>\n",
       "      <td>4</td>\n",
       "      <td>3.313,03</td>\n",
       "      <td>1.171,56</td>\n",
       "      <td>20</td>\n",
       "    </tr>\n",
       "    <tr>\n",
       "      <th>4</th>\n",
       "      <td>709106358</td>\n",
       "      <td>0</td>\n",
       "      <td>40</td>\n",
       "      <td>M</td>\n",
       "      <td>3</td>\n",
       "      <td>sem educacao formal</td>\n",
       "      <td>casado</td>\n",
       "      <td>$60K - $80K</td>\n",
       "      <td>blue</td>\n",
       "      <td>21</td>\n",
       "      <td>5</td>\n",
       "      <td>0</td>\n",
       "      <td>1</td>\n",
       "      <td>4.716,22</td>\n",
       "      <td>816,08</td>\n",
       "      <td>28</td>\n",
       "    </tr>\n",
       "  </tbody>\n",
       "</table>\n",
       "</div>"
      ],
      "text/plain": [
       "          id  default  idade sexo  dependentes         escolaridade  \\\n",
       "0  768805383        0     45    M            3         ensino medio   \n",
       "1  818770008        0     49    F            5             mestrado   \n",
       "2  713982108        0     51    M            3             mestrado   \n",
       "3  769911858        0     40    F            4         ensino medio   \n",
       "4  709106358        0     40    M            3  sem educacao formal   \n",
       "\n",
       "  estado_civil   salario_anual tipo_cartao  meses_de_relacionamento  \\\n",
       "0       casado     $60K - $80K        blue                       39   \n",
       "1     solteiro  menos que $40K        blue                       44   \n",
       "2       casado    $80K - $120K        blue                       36   \n",
       "3          NaN  menos que $40K        blue                       34   \n",
       "4       casado     $60K - $80K        blue                       21   \n",
       "\n",
       "   qtd_produtos  iteracoes_12m  meses_inativo_12m limite_credito  \\\n",
       "0             5              3                  1      12.691,51   \n",
       "1             6              2                  1       8.256,96   \n",
       "2             4              0                  1       3.418,56   \n",
       "3             3              1                  4       3.313,03   \n",
       "4             5              0                  1       4.716,22   \n",
       "\n",
       "  valor_transacoes_12m  qtd_transacoes_12m  \n",
       "0             1.144,90                  42  \n",
       "1             1.291,45                  33  \n",
       "2             1.887,72                  20  \n",
       "3             1.171,56                  20  \n",
       "4               816,08                  28  "
      ]
     },
     "execution_count": 4,
     "metadata": {},
     "output_type": "execute_result"
    }
   ],
   "source": [
    "df.head(n=5)"
   ]
  },
  {
   "cell_type": "markdown",
   "id": "995a80b9",
   "metadata": {
    "papermill": {
     "duration": 0.00962,
     "end_time": "2023-02-01T18:55:33.826389",
     "exception": false,
     "start_time": "2023-02-01T18:55:33.816769",
     "status": "completed"
    },
    "tags": []
   },
   "source": [
    "## Tratamento dos Dados:"
   ]
  },
  {
   "cell_type": "markdown",
   "id": "e1428046",
   "metadata": {
    "papermill": {
     "duration": 0.011621,
     "end_time": "2023-02-01T18:55:33.848155",
     "exception": false,
     "start_time": "2023-02-01T18:55:33.836534",
     "status": "completed"
    },
    "tags": []
   },
   "source": [
    "Verificação dos dados faltantes:"
   ]
  },
  {
   "cell_type": "code",
   "execution_count": 5,
   "id": "2d72419b",
   "metadata": {
    "execution": {
     "iopub.execute_input": "2023-02-01T18:55:33.875339Z",
     "iopub.status.busy": "2023-02-01T18:55:33.874168Z",
     "iopub.status.idle": "2023-02-01T18:55:33.888951Z",
     "shell.execute_reply": "2023-02-01T18:55:33.887900Z"
    },
    "papermill": {
     "duration": 0.032096,
     "end_time": "2023-02-01T18:55:33.892399",
     "exception": false,
     "start_time": "2023-02-01T18:55:33.860303",
     "status": "completed"
    },
    "tags": []
   },
   "outputs": [
    {
     "data": {
      "text/plain": [
       "id                         False\n",
       "default                    False\n",
       "idade                      False\n",
       "sexo                       False\n",
       "dependentes                False\n",
       "escolaridade                True\n",
       "estado_civil                True\n",
       "salario_anual               True\n",
       "tipo_cartao                False\n",
       "meses_de_relacionamento    False\n",
       "qtd_produtos               False\n",
       "iteracoes_12m              False\n",
       "meses_inativo_12m          False\n",
       "limite_credito             False\n",
       "valor_transacoes_12m       False\n",
       "qtd_transacoes_12m         False\n",
       "dtype: bool"
      ]
     },
     "execution_count": 5,
     "metadata": {},
     "output_type": "execute_result"
    }
   ],
   "source": [
    "df.isna().any()"
   ]
  },
  {
   "cell_type": "markdown",
   "id": "6b8eec39",
   "metadata": {
    "papermill": {
     "duration": 0.009286,
     "end_time": "2023-02-01T18:55:33.915004",
     "exception": false,
     "start_time": "2023-02-01T18:55:33.905718",
     "status": "completed"
    },
    "tags": []
   },
   "source": [
    "Estatisticas sobre os dados faltantes:"
   ]
  },
  {
   "cell_type": "code",
   "execution_count": 6,
   "id": "ca06f1c5",
   "metadata": {
    "execution": {
     "iopub.execute_input": "2023-02-01T18:55:33.936404Z",
     "iopub.status.busy": "2023-02-01T18:55:33.935598Z",
     "iopub.status.idle": "2023-02-01T18:55:33.975126Z",
     "shell.execute_reply": "2023-02-01T18:55:33.973233Z"
    },
    "papermill": {
     "duration": 0.053628,
     "end_time": "2023-02-01T18:55:33.978111",
     "exception": false,
     "start_time": "2023-02-01T18:55:33.924483",
     "status": "completed"
    },
    "tags": []
   },
   "outputs": [
    {
     "name": "stdout",
     "output_type": "stream",
     "text": [
      "\n",
      " Dados faltantes abordagem sobre o todo: \n",
      "\n",
      "{'escolaridade': {'quantidade': 1519, 'porcentagem': '15.0%'}}\n",
      "{'estado_civil': {'quantidade': 749, 'porcentagem': '7.4%'}}\n",
      "{'salario_anual': {'quantidade': 1112, 'porcentagem': '10.98%'}}\n",
      "\n",
      " Dados faltantes abordagem sobre os clientes adimplentes: \n",
      "\n",
      "{'escolaridade': {'quantidade': 1263, 'porcentagem': '14.86%'}}\n",
      "{'estado_civil': {'quantidade': 620, 'porcentagem': '7.29%'}}\n",
      "{'salario_anual': {'quantidade': 925, 'porcentagem': '10.88%'}}\n",
      "\n",
      " Dados faltantes abordagem sobre os clientes inadimplentes: \n",
      "\n",
      "{'escolaridade': {'quantidade': 256, 'porcentagem': '15.73%'}}\n",
      "{'estado_civil': {'quantidade': 129, 'porcentagem': '7.93%'}}\n",
      "{'salario_anual': {'quantidade': 187, 'porcentagem': '11.49%'}}\n"
     ]
    }
   ],
   "source": [
    "def stats_dados_faltantes(df: pd.DataFrame) -> None:\n",
    "\n",
    "  stats_dados_faltantes = []\n",
    "  for col in df.columns:\n",
    "    if df[col].isna().any():\n",
    "      qtd, _ = df[df[col].isna()].shape\n",
    "      total, _ = df.shape\n",
    "      dict_dados_faltantes = {col: {'quantidade': qtd, \"porcentagem\": f\"{round(100 * qtd/total, 2)}%\"}}\n",
    "      stats_dados_faltantes.append(dict_dados_faltantes)\n",
    "\n",
    "  for stat in stats_dados_faltantes:\n",
    "    print(stat)\n",
    "    \n",
    "print(\"\\n Dados faltantes abordagem sobre o todo: \\n\")\n",
    "\n",
    "stats_dados_faltantes(df=df)\n",
    "\n",
    "print(\"\\n Dados faltantes abordagem sobre os clientes adimplentes: \\n\" )\n",
    "\n",
    "stats_dados_faltantes(df=df[df['default'] == 0])\n",
    "\n",
    "print(\"\\n Dados faltantes abordagem sobre os clientes inadimplentes: \\n\" )\n",
    "\n",
    "stats_dados_faltantes(df=df[df['default'] == 1])"
   ]
  },
  {
   "cell_type": "markdown",
   "id": "ee8e8905",
   "metadata": {
    "papermill": {
     "duration": 0.009042,
     "end_time": "2023-02-01T18:55:33.996849",
     "exception": false,
     "start_time": "2023-02-01T18:55:33.987807",
     "status": "completed"
    },
    "tags": []
   },
   "source": [
    "* Limpeza dos dados:"
   ]
  },
  {
   "cell_type": "code",
   "execution_count": 7,
   "id": "6095a8e8",
   "metadata": {
    "execution": {
     "iopub.execute_input": "2023-02-01T18:55:34.017953Z",
     "iopub.status.busy": "2023-02-01T18:55:34.017511Z",
     "iopub.status.idle": "2023-02-01T18:55:34.026825Z",
     "shell.execute_reply": "2023-02-01T18:55:34.025500Z"
    },
    "papermill": {
     "duration": 0.022976,
     "end_time": "2023-02-01T18:55:34.029379",
     "exception": false,
     "start_time": "2023-02-01T18:55:34.006403",
     "status": "completed"
    },
    "tags": []
   },
   "outputs": [
    {
     "data": {
      "text/plain": [
       "id                          int64\n",
       "default                     int64\n",
       "idade                       int64\n",
       "sexo                       object\n",
       "dependentes                 int64\n",
       "escolaridade               object\n",
       "estado_civil               object\n",
       "salario_anual              object\n",
       "tipo_cartao                object\n",
       "meses_de_relacionamento     int64\n",
       "qtd_produtos                int64\n",
       "iteracoes_12m               int64\n",
       "meses_inativo_12m           int64\n",
       "limite_credito             object\n",
       "valor_transacoes_12m       object\n",
       "qtd_transacoes_12m          int64\n",
       "dtype: object"
      ]
     },
     "execution_count": 7,
     "metadata": {},
     "output_type": "execute_result"
    }
   ],
   "source": [
    "df.dtypes"
   ]
  },
  {
   "cell_type": "markdown",
   "id": "c028b66a",
   "metadata": {
    "papermill": {
     "duration": 0.008999,
     "end_time": "2023-02-01T18:55:34.048103",
     "exception": false,
     "start_time": "2023-02-01T18:55:34.039104",
     "status": "completed"
    },
    "tags": []
   },
   "source": [
    "As colunas **limite_credito** e **valor_transacoes_12m** apresentam os dados no formato interpretado como texto e não como números, será necessário converter seus formatos para nas próximas etapas para não comprometer a análise dos dados."
   ]
  },
  {
   "cell_type": "code",
   "execution_count": 8,
   "id": "d7f47182",
   "metadata": {
    "execution": {
     "iopub.execute_input": "2023-02-01T18:55:34.068456Z",
     "iopub.status.busy": "2023-02-01T18:55:34.068000Z",
     "iopub.status.idle": "2023-02-01T18:55:34.080224Z",
     "shell.execute_reply": "2023-02-01T18:55:34.079133Z"
    },
    "papermill": {
     "duration": 0.025388,
     "end_time": "2023-02-01T18:55:34.082704",
     "exception": false,
     "start_time": "2023-02-01T18:55:34.057316",
     "status": "completed"
    },
    "tags": []
   },
   "outputs": [
    {
     "data": {
      "text/plain": [
       "limite_credito          object\n",
       "valor_transacoes_12m    object\n",
       "dtype: object"
      ]
     },
     "execution_count": 8,
     "metadata": {},
     "output_type": "execute_result"
    }
   ],
   "source": [
    "df[['limite_credito', 'valor_transacoes_12m']].dtypes"
   ]
  },
  {
   "cell_type": "code",
   "execution_count": 9,
   "id": "36e3e310",
   "metadata": {
    "execution": {
     "iopub.execute_input": "2023-02-01T18:55:34.103592Z",
     "iopub.status.busy": "2023-02-01T18:55:34.103067Z",
     "iopub.status.idle": "2023-02-01T18:55:34.116679Z",
     "shell.execute_reply": "2023-02-01T18:55:34.115497Z"
    },
    "papermill": {
     "duration": 0.02679,
     "end_time": "2023-02-01T18:55:34.118906",
     "exception": false,
     "start_time": "2023-02-01T18:55:34.092116",
     "status": "completed"
    },
    "tags": []
   },
   "outputs": [
    {
     "data": {
      "text/html": [
       "<div>\n",
       "<style scoped>\n",
       "    .dataframe tbody tr th:only-of-type {\n",
       "        vertical-align: middle;\n",
       "    }\n",
       "\n",
       "    .dataframe tbody tr th {\n",
       "        vertical-align: top;\n",
       "    }\n",
       "\n",
       "    .dataframe thead th {\n",
       "        text-align: right;\n",
       "    }\n",
       "</style>\n",
       "<table border=\"1\" class=\"dataframe\">\n",
       "  <thead>\n",
       "    <tr style=\"text-align: right;\">\n",
       "      <th></th>\n",
       "      <th>limite_credito</th>\n",
       "      <th>valor_transacoes_12m</th>\n",
       "    </tr>\n",
       "  </thead>\n",
       "  <tbody>\n",
       "    <tr>\n",
       "      <th>0</th>\n",
       "      <td>12.691,51</td>\n",
       "      <td>1.144,90</td>\n",
       "    </tr>\n",
       "    <tr>\n",
       "      <th>1</th>\n",
       "      <td>8.256,96</td>\n",
       "      <td>1.291,45</td>\n",
       "    </tr>\n",
       "    <tr>\n",
       "      <th>2</th>\n",
       "      <td>3.418,56</td>\n",
       "      <td>1.887,72</td>\n",
       "    </tr>\n",
       "    <tr>\n",
       "      <th>3</th>\n",
       "      <td>3.313,03</td>\n",
       "      <td>1.171,56</td>\n",
       "    </tr>\n",
       "    <tr>\n",
       "      <th>4</th>\n",
       "      <td>4.716,22</td>\n",
       "      <td>816,08</td>\n",
       "    </tr>\n",
       "  </tbody>\n",
       "</table>\n",
       "</div>"
      ],
      "text/plain": [
       "  limite_credito valor_transacoes_12m\n",
       "0      12.691,51             1.144,90\n",
       "1       8.256,96             1.291,45\n",
       "2       3.418,56             1.887,72\n",
       "3       3.313,03             1.171,56\n",
       "4       4.716,22               816,08"
      ]
     },
     "execution_count": 9,
     "metadata": {},
     "output_type": "execute_result"
    }
   ],
   "source": [
    "df[['limite_credito', 'valor_transacoes_12m']].head(n=5)"
   ]
  },
  {
   "cell_type": "markdown",
   "id": "2707fa5f",
   "metadata": {
    "papermill": {
     "duration": 0.009274,
     "end_time": "2023-02-01T18:55:34.137834",
     "exception": false,
     "start_time": "2023-02-01T18:55:34.128560",
     "status": "completed"
    },
    "tags": []
   },
   "source": [
    "Convertendo os formatos de **limite_credito** e **valor_transacoes_12m** de texto para númerico."
   ]
  },
  {
   "cell_type": "code",
   "execution_count": 10,
   "id": "53d0c78a",
   "metadata": {
    "execution": {
     "iopub.execute_input": "2023-02-01T18:55:34.159173Z",
     "iopub.status.busy": "2023-02-01T18:55:34.158433Z",
     "iopub.status.idle": "2023-02-01T18:55:34.190837Z",
     "shell.execute_reply": "2023-02-01T18:55:34.189606Z"
    },
    "papermill": {
     "duration": 0.046147,
     "end_time": "2023-02-01T18:55:34.193500",
     "exception": false,
     "start_time": "2023-02-01T18:55:34.147353",
     "status": "completed"
    },
    "tags": []
   },
   "outputs": [
    {
     "data": {
      "text/plain": [
       "id                           int64\n",
       "default                      int64\n",
       "idade                        int64\n",
       "sexo                        object\n",
       "dependentes                  int64\n",
       "escolaridade                object\n",
       "estado_civil                object\n",
       "salario_anual               object\n",
       "tipo_cartao                 object\n",
       "meses_de_relacionamento      int64\n",
       "qtd_produtos                 int64\n",
       "iteracoes_12m                int64\n",
       "meses_inativo_12m            int64\n",
       "limite_credito             float64\n",
       "valor_transacoes_12m       float64\n",
       "qtd_transacoes_12m           int64\n",
       "dtype: object"
      ]
     },
     "execution_count": 10,
     "metadata": {},
     "output_type": "execute_result"
    }
   ],
   "source": [
    "df['valor_transacoes_12m'] = df['valor_transacoes_12m'].apply(lambda valor: float(valor.replace(\".\", \"\").replace(\",\", \".\")))\n",
    "df['limite_credito'] = df['limite_credito'].apply(lambda valor: float(valor.replace(\".\", \"\").replace(\",\", \".\")))\n",
    "df.dtypes"
   ]
  },
  {
   "cell_type": "markdown",
   "id": "283edc6f",
   "metadata": {
    "papermill": {
     "duration": 0.009357,
     "end_time": "2023-02-01T18:55:34.213052",
     "exception": false,
     "start_time": "2023-02-01T18:55:34.203695",
     "status": "completed"
    },
    "tags": []
   },
   "source": [
    "* **Atributos Categóricos:**"
   ]
  },
  {
   "cell_type": "code",
   "execution_count": 11,
   "id": "7384e42c",
   "metadata": {
    "execution": {
     "iopub.execute_input": "2023-02-01T18:55:34.234835Z",
     "iopub.status.busy": "2023-02-01T18:55:34.234356Z",
     "iopub.status.idle": "2023-02-01T18:55:34.268765Z",
     "shell.execute_reply": "2023-02-01T18:55:34.267567Z"
    },
    "papermill": {
     "duration": 0.048821,
     "end_time": "2023-02-01T18:55:34.271586",
     "exception": false,
     "start_time": "2023-02-01T18:55:34.222765",
     "status": "completed"
    },
    "tags": []
   },
   "outputs": [
    {
     "data": {
      "text/html": [
       "<div>\n",
       "<style scoped>\n",
       "    .dataframe tbody tr th:only-of-type {\n",
       "        vertical-align: middle;\n",
       "    }\n",
       "\n",
       "    .dataframe tbody tr th {\n",
       "        vertical-align: top;\n",
       "    }\n",
       "\n",
       "    .dataframe thead th {\n",
       "        text-align: right;\n",
       "    }\n",
       "</style>\n",
       "<table border=\"1\" class=\"dataframe\">\n",
       "  <thead>\n",
       "    <tr style=\"text-align: right;\">\n",
       "      <th></th>\n",
       "      <th>count</th>\n",
       "      <th>unique</th>\n",
       "      <th>top</th>\n",
       "      <th>freq</th>\n",
       "    </tr>\n",
       "  </thead>\n",
       "  <tbody>\n",
       "    <tr>\n",
       "      <th>sexo</th>\n",
       "      <td>10127</td>\n",
       "      <td>2</td>\n",
       "      <td>F</td>\n",
       "      <td>5358</td>\n",
       "    </tr>\n",
       "    <tr>\n",
       "      <th>escolaridade</th>\n",
       "      <td>8608</td>\n",
       "      <td>5</td>\n",
       "      <td>mestrado</td>\n",
       "      <td>3128</td>\n",
       "    </tr>\n",
       "    <tr>\n",
       "      <th>estado_civil</th>\n",
       "      <td>9378</td>\n",
       "      <td>3</td>\n",
       "      <td>casado</td>\n",
       "      <td>4687</td>\n",
       "    </tr>\n",
       "    <tr>\n",
       "      <th>salario_anual</th>\n",
       "      <td>9015</td>\n",
       "      <td>5</td>\n",
       "      <td>menos que $40K</td>\n",
       "      <td>3561</td>\n",
       "    </tr>\n",
       "    <tr>\n",
       "      <th>tipo_cartao</th>\n",
       "      <td>10127</td>\n",
       "      <td>4</td>\n",
       "      <td>blue</td>\n",
       "      <td>9436</td>\n",
       "    </tr>\n",
       "  </tbody>\n",
       "</table>\n",
       "</div>"
      ],
      "text/plain": [
       "               count unique             top  freq\n",
       "sexo           10127      2               F  5358\n",
       "escolaridade    8608      5        mestrado  3128\n",
       "estado_civil    9378      3          casado  4687\n",
       "salario_anual   9015      5  menos que $40K  3561\n",
       "tipo_cartao    10127      4            blue  9436"
      ]
     },
     "execution_count": 11,
     "metadata": {},
     "output_type": "execute_result"
    }
   ],
   "source": [
    "df.select_dtypes('object').describe().transpose()"
   ]
  },
  {
   "cell_type": "markdown",
   "id": "cf2ee658",
   "metadata": {
    "papermill": {
     "duration": 0.009628,
     "end_time": "2023-02-01T18:55:34.291572",
     "exception": false,
     "start_time": "2023-02-01T18:55:34.281944",
     "status": "completed"
    },
    "tags": []
   },
   "source": [
    "Verificando novamente os **Atributos Numéricos:**"
   ]
  },
  {
   "cell_type": "code",
   "execution_count": 12,
   "id": "8bf6a8e2",
   "metadata": {
    "execution": {
     "iopub.execute_input": "2023-02-01T18:55:34.314293Z",
     "iopub.status.busy": "2023-02-01T18:55:34.313796Z",
     "iopub.status.idle": "2023-02-01T18:55:34.371922Z",
     "shell.execute_reply": "2023-02-01T18:55:34.370648Z"
    },
    "papermill": {
     "duration": 0.072966,
     "end_time": "2023-02-01T18:55:34.374970",
     "exception": false,
     "start_time": "2023-02-01T18:55:34.302004",
     "status": "completed"
    },
    "tags": []
   },
   "outputs": [
    {
     "data": {
      "text/html": [
       "<div>\n",
       "<style scoped>\n",
       "    .dataframe tbody tr th:only-of-type {\n",
       "        vertical-align: middle;\n",
       "    }\n",
       "\n",
       "    .dataframe tbody tr th {\n",
       "        vertical-align: top;\n",
       "    }\n",
       "\n",
       "    .dataframe thead th {\n",
       "        text-align: right;\n",
       "    }\n",
       "</style>\n",
       "<table border=\"1\" class=\"dataframe\">\n",
       "  <thead>\n",
       "    <tr style=\"text-align: right;\">\n",
       "      <th></th>\n",
       "      <th>count</th>\n",
       "      <th>mean</th>\n",
       "      <th>std</th>\n",
       "      <th>min</th>\n",
       "      <th>25%</th>\n",
       "      <th>50%</th>\n",
       "      <th>75%</th>\n",
       "      <th>max</th>\n",
       "    </tr>\n",
       "  </thead>\n",
       "  <tbody>\n",
       "    <tr>\n",
       "      <th>default</th>\n",
       "      <td>10127.0</td>\n",
       "      <td>0.160660</td>\n",
       "      <td>0.367235</td>\n",
       "      <td>0.00</td>\n",
       "      <td>0.000</td>\n",
       "      <td>0.00</td>\n",
       "      <td>0.000</td>\n",
       "      <td>1.00</td>\n",
       "    </tr>\n",
       "    <tr>\n",
       "      <th>idade</th>\n",
       "      <td>10127.0</td>\n",
       "      <td>46.325960</td>\n",
       "      <td>8.016814</td>\n",
       "      <td>26.00</td>\n",
       "      <td>41.000</td>\n",
       "      <td>46.00</td>\n",
       "      <td>52.000</td>\n",
       "      <td>73.00</td>\n",
       "    </tr>\n",
       "    <tr>\n",
       "      <th>dependentes</th>\n",
       "      <td>10127.0</td>\n",
       "      <td>2.346203</td>\n",
       "      <td>1.298908</td>\n",
       "      <td>0.00</td>\n",
       "      <td>1.000</td>\n",
       "      <td>2.00</td>\n",
       "      <td>3.000</td>\n",
       "      <td>5.00</td>\n",
       "    </tr>\n",
       "    <tr>\n",
       "      <th>meses_de_relacionamento</th>\n",
       "      <td>10127.0</td>\n",
       "      <td>35.928409</td>\n",
       "      <td>7.986416</td>\n",
       "      <td>13.00</td>\n",
       "      <td>31.000</td>\n",
       "      <td>36.00</td>\n",
       "      <td>40.000</td>\n",
       "      <td>56.00</td>\n",
       "    </tr>\n",
       "    <tr>\n",
       "      <th>qtd_produtos</th>\n",
       "      <td>10127.0</td>\n",
       "      <td>3.812580</td>\n",
       "      <td>1.554408</td>\n",
       "      <td>1.00</td>\n",
       "      <td>3.000</td>\n",
       "      <td>4.00</td>\n",
       "      <td>5.000</td>\n",
       "      <td>6.00</td>\n",
       "    </tr>\n",
       "    <tr>\n",
       "      <th>iteracoes_12m</th>\n",
       "      <td>10127.0</td>\n",
       "      <td>2.455317</td>\n",
       "      <td>1.106225</td>\n",
       "      <td>0.00</td>\n",
       "      <td>2.000</td>\n",
       "      <td>2.00</td>\n",
       "      <td>3.000</td>\n",
       "      <td>6.00</td>\n",
       "    </tr>\n",
       "    <tr>\n",
       "      <th>meses_inativo_12m</th>\n",
       "      <td>10127.0</td>\n",
       "      <td>2.341167</td>\n",
       "      <td>1.010622</td>\n",
       "      <td>0.00</td>\n",
       "      <td>2.000</td>\n",
       "      <td>2.00</td>\n",
       "      <td>3.000</td>\n",
       "      <td>6.00</td>\n",
       "    </tr>\n",
       "    <tr>\n",
       "      <th>limite_credito</th>\n",
       "      <td>10127.0</td>\n",
       "      <td>8632.440165</td>\n",
       "      <td>9088.788041</td>\n",
       "      <td>1438.00</td>\n",
       "      <td>2555.355</td>\n",
       "      <td>4549.42</td>\n",
       "      <td>11068.175</td>\n",
       "      <td>34516.99</td>\n",
       "    </tr>\n",
       "    <tr>\n",
       "      <th>valor_transacoes_12m</th>\n",
       "      <td>10127.0</td>\n",
       "      <td>4404.583047</td>\n",
       "      <td>3397.128078</td>\n",
       "      <td>510.16</td>\n",
       "      <td>2155.825</td>\n",
       "      <td>3899.59</td>\n",
       "      <td>4741.310</td>\n",
       "      <td>18484.93</td>\n",
       "    </tr>\n",
       "    <tr>\n",
       "      <th>qtd_transacoes_12m</th>\n",
       "      <td>10127.0</td>\n",
       "      <td>64.858695</td>\n",
       "      <td>23.472570</td>\n",
       "      <td>10.00</td>\n",
       "      <td>45.000</td>\n",
       "      <td>67.00</td>\n",
       "      <td>81.000</td>\n",
       "      <td>139.00</td>\n",
       "    </tr>\n",
       "  </tbody>\n",
       "</table>\n",
       "</div>"
      ],
      "text/plain": [
       "                           count         mean          std      min       25%  \\\n",
       "default                  10127.0     0.160660     0.367235     0.00     0.000   \n",
       "idade                    10127.0    46.325960     8.016814    26.00    41.000   \n",
       "dependentes              10127.0     2.346203     1.298908     0.00     1.000   \n",
       "meses_de_relacionamento  10127.0    35.928409     7.986416    13.00    31.000   \n",
       "qtd_produtos             10127.0     3.812580     1.554408     1.00     3.000   \n",
       "iteracoes_12m            10127.0     2.455317     1.106225     0.00     2.000   \n",
       "meses_inativo_12m        10127.0     2.341167     1.010622     0.00     2.000   \n",
       "limite_credito           10127.0  8632.440165  9088.788041  1438.00  2555.355   \n",
       "valor_transacoes_12m     10127.0  4404.583047  3397.128078   510.16  2155.825   \n",
       "qtd_transacoes_12m       10127.0    64.858695    23.472570    10.00    45.000   \n",
       "\n",
       "                             50%        75%       max  \n",
       "default                     0.00      0.000      1.00  \n",
       "idade                      46.00     52.000     73.00  \n",
       "dependentes                 2.00      3.000      5.00  \n",
       "meses_de_relacionamento    36.00     40.000     56.00  \n",
       "qtd_produtos                4.00      5.000      6.00  \n",
       "iteracoes_12m               2.00      3.000      6.00  \n",
       "meses_inativo_12m           2.00      3.000      6.00  \n",
       "limite_credito           4549.42  11068.175  34516.99  \n",
       "valor_transacoes_12m     3899.59   4741.310  18484.93  \n",
       "qtd_transacoes_12m         67.00     81.000    139.00  "
      ]
     },
     "execution_count": 12,
     "metadata": {},
     "output_type": "execute_result"
    }
   ],
   "source": [
    "df.drop('id', axis=1).select_dtypes('number').describe().transpose()"
   ]
  },
  {
   "cell_type": "markdown",
   "id": "3c4112ef",
   "metadata": {
    "papermill": {
     "duration": 0.010416,
     "end_time": "2023-02-01T18:55:34.395739",
     "exception": false,
     "start_time": "2023-02-01T18:55:34.385323",
     "status": "completed"
    },
    "tags": []
   },
   "source": [
    "Remoção dos dados faltantes:"
   ]
  },
  {
   "cell_type": "code",
   "execution_count": 13,
   "id": "52a53c5b",
   "metadata": {
    "execution": {
     "iopub.execute_input": "2023-02-01T18:55:34.419220Z",
     "iopub.status.busy": "2023-02-01T18:55:34.418137Z",
     "iopub.status.idle": "2023-02-01T18:55:34.431618Z",
     "shell.execute_reply": "2023-02-01T18:55:34.430511Z"
    },
    "papermill": {
     "duration": 0.028186,
     "end_time": "2023-02-01T18:55:34.434342",
     "exception": false,
     "start_time": "2023-02-01T18:55:34.406156",
     "status": "completed"
    },
    "tags": []
   },
   "outputs": [],
   "source": [
    "df.dropna(inplace=True)"
   ]
  },
  {
   "cell_type": "code",
   "execution_count": 14,
   "id": "e2fe60a2",
   "metadata": {
    "execution": {
     "iopub.execute_input": "2023-02-01T18:55:34.457473Z",
     "iopub.status.busy": "2023-02-01T18:55:34.456692Z",
     "iopub.status.idle": "2023-02-01T18:55:34.468039Z",
     "shell.execute_reply": "2023-02-01T18:55:34.466673Z"
    },
    "papermill": {
     "duration": 0.026029,
     "end_time": "2023-02-01T18:55:34.470755",
     "exception": false,
     "start_time": "2023-02-01T18:55:34.444726",
     "status": "completed"
    },
    "tags": []
   },
   "outputs": [
    {
     "name": "stdout",
     "output_type": "stream",
     "text": [
      "A proporcão adimplentes ativos é de 83.93%\n",
      "A nova proporcão de clientes adimplentes é de 84.28%\n",
      "\n",
      "A proporcão clientes inadimplentes é de 16.07%\n",
      "A nova proporcão de clientes inadimplentes é de 15.72%\n"
     ]
    }
   ],
   "source": [
    "qtd_total_novo, _ = df.shape\n",
    "qtd_adimplentes_novo, _ = df[df['default'] == 0].shape\n",
    "qtd_inadimplentes_novo, _ = df[df['default'] == 1].shape\n",
    "\n",
    "print(f\"A proporcão adimplentes ativos é de {round(100 * qtd_adimplentes / qtd_total, 2)}%\")\n",
    "print(f\"A nova proporcão de clientes adimplentes é de {round(100 * qtd_adimplentes_novo / qtd_total_novo, 2)}%\")\n",
    "print(\"\")\n",
    "print(f\"A proporcão clientes inadimplentes é de {round(100 * qtd_inadimplentes / qtd_total, 2)}%\")\n",
    "print(f\"A nova proporcão de clientes inadimplentes é de {round(100 * qtd_inadimplentes_novo / qtd_total_novo, 2)}%\")"
   ]
  },
  {
   "cell_type": "markdown",
   "id": "191282c5",
   "metadata": {
    "papermill": {
     "duration": 0.010019,
     "end_time": "2023-02-01T18:55:34.491186",
     "exception": false,
     "start_time": "2023-02-01T18:55:34.481167",
     "status": "completed"
    },
    "tags": []
   },
   "source": [
    "# Análise dos Dados:"
   ]
  },
  {
   "cell_type": "code",
   "execution_count": 15,
   "id": "f718f090",
   "metadata": {
    "execution": {
     "iopub.execute_input": "2023-02-01T18:55:34.513632Z",
     "iopub.status.busy": "2023-02-01T18:55:34.513136Z",
     "iopub.status.idle": "2023-02-01T18:55:34.518966Z",
     "shell.execute_reply": "2023-02-01T18:55:34.517914Z"
    },
    "papermill": {
     "duration": 0.019762,
     "end_time": "2023-02-01T18:55:34.521267",
     "exception": false,
     "start_time": "2023-02-01T18:55:34.501505",
     "status": "completed"
    },
    "tags": []
   },
   "outputs": [],
   "source": [
    "sns.set_style(\"whitegrid\")"
   ]
  },
  {
   "cell_type": "code",
   "execution_count": 16,
   "id": "51cbab42",
   "metadata": {
    "execution": {
     "iopub.execute_input": "2023-02-01T18:55:34.544835Z",
     "iopub.status.busy": "2023-02-01T18:55:34.544056Z",
     "iopub.status.idle": "2023-02-01T18:55:34.551580Z",
     "shell.execute_reply": "2023-02-01T18:55:34.550525Z"
    },
    "papermill": {
     "duration": 0.02246,
     "end_time": "2023-02-01T18:55:34.554320",
     "exception": false,
     "start_time": "2023-02-01T18:55:34.531860",
     "status": "completed"
    },
    "tags": []
   },
   "outputs": [],
   "source": [
    "df_adimplente = df[df['default'] == 0]\n",
    "df_inadimplente = df[df['default'] == 1]"
   ]
  },
  {
   "cell_type": "markdown",
   "id": "594a8abe",
   "metadata": {
    "papermill": {
     "duration": 0.010036,
     "end_time": "2023-02-01T18:55:34.574820",
     "exception": false,
     "start_time": "2023-02-01T18:55:34.564784",
     "status": "completed"
    },
    "tags": []
   },
   "source": [
    "Visulização por **Escolaridade:**"
   ]
  },
  {
   "cell_type": "code",
   "execution_count": 17,
   "id": "03a03cca",
   "metadata": {
    "execution": {
     "iopub.execute_input": "2023-02-01T18:55:34.597695Z",
     "iopub.status.busy": "2023-02-01T18:55:34.597153Z",
     "iopub.status.idle": "2023-02-01T18:55:35.142594Z",
     "shell.execute_reply": "2023-02-01T18:55:35.141226Z"
    },
    "papermill": {
     "duration": 0.560645,
     "end_time": "2023-02-01T18:55:35.145804",
     "exception": false,
     "start_time": "2023-02-01T18:55:34.585159",
     "status": "completed"
    },
    "tags": []
   },
   "outputs": [
    {
     "data": {
      "image/png": "[encoded data removed]",
      "text/plain": [
       "<Figure size 1440x360 with 3 Axes>"
      ]
     },
     "metadata": {},
     "output_type": "display_data"
    }
   ],
   "source": [
    "coluna = 'escolaridade'\n",
    "titulos = ['Escolaridade dos Clientes', 'Escolaridade dos Clientes Adimplentes', 'Escolaridade dos Clientes Inadimplentes']\n",
    "\n",
    "eixo = 0\n",
    "max_y = 0\n",
    "max = df.select_dtypes('object').describe()[coluna]['freq'] * 1.1\n",
    "\n",
    "figura, eixos = plt.subplots(1,3, figsize=(20, 5), sharex=True)\n",
    "\n",
    "for dataframe in [df, df_adimplente, df_inadimplente]:\n",
    "\n",
    "  df_to_plot = dataframe[coluna].value_counts().to_frame()\n",
    "  df_to_plot.rename(columns={coluna: 'frequencia_absoluta'}, inplace=True)\n",
    "  df_to_plot[coluna] = df_to_plot.index\n",
    "  df_to_plot.sort_values(by=[coluna], inplace=True)\n",
    "  df_to_plot.sort_values(by=[coluna])\n",
    "\n",
    "  f = sns.barplot(x=df_to_plot[coluna], y=df_to_plot['frequencia_absoluta'], ax=eixos[eixo])\n",
    "  f.set(title=titulos[eixo], xlabel=coluna.capitalize(), ylabel='Frequência Absoluta')\n",
    "  f.set_xticklabels(labels=f.get_xticklabels(), rotation=90)\n",
    "\n",
    "  _, max_y_f = f.get_ylim()\n",
    "  max_y = max_y_f if max_y_f > max_y else max_y\n",
    "  f.set(ylim=(0, max_y))\n",
    "\n",
    "  eixo += 1\n",
    "\n",
    "figura.show()"
   ]
  },
  {
   "cell_type": "markdown",
   "id": "c192bdaa",
   "metadata": {
    "papermill": {
     "duration": 0.010819,
     "end_time": "2023-02-01T18:55:35.167800",
     "exception": false,
     "start_time": "2023-02-01T18:55:35.156981",
     "status": "completed"
    },
    "tags": []
   },
   "source": [
    "Visualização por **Salário Anual:**"
   ]
  },
  {
   "cell_type": "code",
   "execution_count": 18,
   "id": "74cfd120",
   "metadata": {
    "execution": {
     "iopub.execute_input": "2023-02-01T18:55:35.192534Z",
     "iopub.status.busy": "2023-02-01T18:55:35.191798Z",
     "iopub.status.idle": "2023-02-01T18:55:35.871720Z",
     "shell.execute_reply": "2023-02-01T18:55:35.870161Z"
    },
    "papermill": {
     "duration": 0.695681,
     "end_time": "2023-02-01T18:55:35.874720",
     "exception": false,
     "start_time": "2023-02-01T18:55:35.179039",
     "status": "completed"
    },
    "tags": []
   },
   "outputs": [
    {
     "data": {
      "image/png": "[encoded data removed]",
      "text/plain": [
       "<Figure size 1440x360 with 3 Axes>"
      ]
     },
     "metadata": {},
     "output_type": "display_data"
    }
   ],
   "source": [
    "coluna = 'salario_anual'\n",
    "titulos = ['Salário Anual dos Clientes', 'Salário Anual dos Clientes Adimplentes', 'Salário Anual dos Clientes Inadimplentes']\n",
    "\n",
    "eixo = 0\n",
    "max_y = 0\n",
    "figura, eixos = plt.subplots(1,3, figsize=(20, 5), sharex=True)\n",
    "\n",
    "for dataframe in [df, df_adimplente, df_inadimplente]:\n",
    "\n",
    "  df_to_plot = dataframe[coluna].value_counts().to_frame()\n",
    "  df_to_plot.rename(columns={coluna: 'frequencia_absoluta'}, inplace=True)\n",
    "  df_to_plot[coluna] = df_to_plot.index\n",
    "  df_to_plot.reset_index(inplace=True, drop=True)\n",
    "  df_to_plot.sort_values(by=[coluna], inplace=True)\n",
    "\n",
    "  f = sns.barplot(x=df_to_plot[coluna], y=df_to_plot['frequencia_absoluta'], ax=eixos[eixo])\n",
    "  f.set(title=titulos[eixo], xlabel=coluna.capitalize(), ylabel='Frequência Absoluta')\n",
    "  f.set_xticklabels(labels=f.get_xticklabels(), rotation=90)\n",
    "  _, max_y_f = f.get_ylim()\n",
    "  max_y = max_y_f if max_y_f > max_y else max_y\n",
    "  f.set(ylim=(0, max_y))\n",
    "  eixo += 1\n",
    "\n",
    "figura.show()"
   ]
  },
  {
   "cell_type": "markdown",
   "id": "91c88629",
   "metadata": {
    "papermill": {
     "duration": 0.01194,
     "end_time": "2023-02-01T18:55:35.898883",
     "exception": false,
     "start_time": "2023-02-01T18:55:35.886943",
     "status": "completed"
    },
    "tags": []
   },
   "source": [
    "Visualizaçao por **Qtd. de Transações no Último Ano**"
   ]
  },
  {
   "cell_type": "code",
   "execution_count": 19,
   "id": "189bbe83",
   "metadata": {
    "execution": {
     "iopub.execute_input": "2023-02-01T18:55:35.925587Z",
     "iopub.status.busy": "2023-02-01T18:55:35.925046Z",
     "iopub.status.idle": "2023-02-01T18:55:36.783230Z",
     "shell.execute_reply": "2023-02-01T18:55:36.781502Z"
    },
    "papermill": {
     "duration": 0.874883,
     "end_time": "2023-02-01T18:55:36.786343",
     "exception": false,
     "start_time": "2023-02-01T18:55:35.911460",
     "status": "completed"
    },
    "tags": []
   },
   "outputs": [
    {
     "data": {
      "image/png": "[encoded data removed]",
      "text/plain": [
       "<Figure size 1440x360 with 3 Axes>"
      ]
     },
     "metadata": {},
     "output_type": "display_data"
    }
   ],
   "source": [
    "coluna = 'qtd_transacoes_12m'\n",
    "titulos = ['Qtd. de Transações no Último Ano', 'Qtd. de Transações no Último Ano de Adimplentes', 'Qtd. de Transações no Último Ano de Inadimplentes']\n",
    "\n",
    "eixo = 0\n",
    "max_y = 0\n",
    "figura, eixos = plt.subplots(1,3, figsize=(20, 5), sharex=True)\n",
    "\n",
    "for dataframe in [df, df_adimplente, df_inadimplente]:\n",
    "\n",
    "  f = sns.histplot(x=coluna, data=dataframe, stat='count', ax=eixos[eixo])\n",
    "  f.set(title=titulos[eixo], xlabel=coluna.capitalize(), ylabel='Frequência Absoluta')\n",
    "\n",
    "  _, max_y_f = f.get_ylim()\n",
    "  max_y = max_y_f if max_y_f > max_y else max_y\n",
    "  f.set(ylim=(0, max_y))\n",
    "\n",
    "  eixo += 1\n",
    "\n",
    "figura.show()"
   ]
  },
  {
   "cell_type": "markdown",
   "id": "77408177",
   "metadata": {
    "papermill": {
     "duration": 0.011684,
     "end_time": "2023-02-01T18:55:36.810517",
     "exception": false,
     "start_time": "2023-02-01T18:55:36.798833",
     "status": "completed"
    },
    "tags": []
   },
   "source": [
    "Valor de **Transações nos Últimos 12 Meses** x **Quantidade de Transações nos Últimos 12 Meses**"
   ]
  },
  {
   "cell_type": "code",
   "execution_count": 20,
   "id": "89e53736",
   "metadata": {
    "execution": {
     "iopub.execute_input": "2023-02-01T18:55:36.836760Z",
     "iopub.status.busy": "2023-02-01T18:55:36.836039Z",
     "iopub.status.idle": "2023-02-01T18:55:37.938090Z",
     "shell.execute_reply": "2023-02-01T18:55:37.936786Z"
    },
    "papermill": {
     "duration": 1.118342,
     "end_time": "2023-02-01T18:55:37.940854",
     "exception": false,
     "start_time": "2023-02-01T18:55:36.822512",
     "status": "completed"
    },
    "tags": []
   },
   "outputs": [
    {
     "data": {
      "image/png": "[encoded data removed]",
      "text/plain": [
       "<Figure size 403.375x360 with 1 Axes>"
      ]
     },
     "metadata": {},
     "output_type": "display_data"
    }
   ],
   "source": [
    "f = sns.relplot(x='valor_transacoes_12m', y='qtd_transacoes_12m', data=df, hue='default')\n",
    "_ = f.set(\n",
    "    title='Relação entre Valor e Quantidade de Transações no Último Ano', \n",
    "    xlabel='Valor das Transações no Último Ano', \n",
    "    ylabel='Quantidade das Transações no Último Ano'\n",
    "  )"
   ]
  },
  {
   "cell_type": "markdown",
   "id": "956298bc",
   "metadata": {
    "papermill": {
     "duration": 0.01567,
     "end_time": "2023-02-01T18:55:37.971308",
     "exception": false,
     "start_time": "2023-02-01T18:55:37.955638",
     "status": "completed"
    },
    "tags": []
   },
   "source": [
    "# Insights:"
   ]
  },
  {
   "cell_type": "markdown",
   "id": "0f2e83a6",
   "metadata": {
    "papermill": {
     "duration": 0.013357,
     "end_time": "2023-02-01T18:55:37.998263",
     "exception": false,
     "start_time": "2023-02-01T18:55:37.984906",
     "status": "completed"
    },
    "tags": []
   },
   "source": [
    "Na visualização por escolaridade, os gráficos não apresentam variação significativa proporcionalmente entre os clientes adimplentes e inadimplentes. O mesmo acontece na visualização pelo salário anual, a proporção mantem-se sem variação significativa.\n",
    "\n",
    "Na visualização por transações no último ano, é possível identificar uma diferença entre os gráficos que representam as transações dos clientes adimplentes e os inadimplentes, os clientes adimplentes realizam transações em todas as faixas de salário anuais, os clientes inadimplentes concentram as transações entre as faixas de salário anuais entre 20 mil e 60 mil.\n",
    "\n",
    "Na visualização por transações nos últimos 12 meses x quantidade de transações nos últimos 12 meses é visível que a faixa de salário de um cliente inadimplente está num primeiro grupo que recebe salário anual entre 1 mil e 5 mil e a quantidade de transações no último ano foi entre 10 e 60, e um segundo grupo que recebe salário anual entre 7 mil e 10 mil e quantidade de transção do último ano foi entre 60 e 80, logo, é necessário ter mais atenção aos emprestimos para esses dois grupos."
   ]
  }
 ],
 "metadata": {
  "kernelspec": {
   "display_name": "Python 3",
   "language": "python",
   "name": "python3"
  },
  "language_info": {
   "codemirror_mode": {
    "name": "ipython",
    "version": 3
   },
   "file_extension": ".py",
   "mimetype": "text/x-python",
   "name": "python",
   "nbconvert_exporter": "python",
   "pygments_lexer": "ipython3",
   "version": "3.8.10"
  },
  "papermill": {
   "default_parameters": {},
   "duration": 16.031603,
   "end_time": "2023-02-01T18:55:39.137146",
   "environment_variables": {},
   "exception": null,
   "input_path": "__notebook__.ipynb",
   "output_path": "__notebook__.ipynb",
   "parameters": {},
   "start_time": "2023-02-01T18:55:23.105543",
   "version": "2.3.4"
  },
  "vscode": {
   "interpreter": {
    "hash": "916dbcbb3f70747c44a77c7bcd40155683ae19c65e1c03b4aa3499c5328201f1"
   }
  }
 },
 "nbformat": 4,
 "nbformat_minor": 5
}
