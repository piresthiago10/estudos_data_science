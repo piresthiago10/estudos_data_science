{
 "cells": [
  {
   "attachments": {},
   "cell_type": "markdown",
   "metadata": {},
   "source": [
    "# Módulo 10 tarefa 03\n",
    "Considere a mesma base de dados utilizada na tarefa 1 ```previsao_de_renda.csv```."
   ]
  },
  {
   "attachments": {},
   "cell_type": "markdown",
   "metadata": {},
   "source": [
    "1) Construa um gráfico de barras para avaliar a distribuição das variáveis qualitativas no tempo. Você acha que houve alguma alteração importante a ser investigada?"
   ]
  },
  {
   "cell_type": "code",
   "execution_count": null,
   "metadata": {},
   "outputs": [
    {
     "ename": "",
     "evalue": "",
     "output_type": "error",
     "traceback": [
      "\u001b[1;31mRunning cells with 'venv' requires the ipykernel package.\n",
      "\u001b[1;31mRun the following command to install 'ipykernel' into the Python environment. \n",
      "\u001b[1;31mCommand: '/home/piresthiago10/Documentos/Desenvolvimento/estudos_data_science/venv/bin/python -m pip install ipykernel -U --force-reinstall'"
     ]
    }
   ],
   "source": [
    "import pandas as pd\n",
    "import numpy as np\n",
    "import seaborn as sns\n",
    "import matplotlib.pyplot as plt\n",
    "\n",
    "previsao_renda_raw = pd.read_csv('Profissão- Cientista de Dados_M10_support material.csv')\n",
    "previsao_renda_raw.head()"
   ]
  },
  {
   "cell_type": "code",
   "execution_count": null,
   "metadata": {},
   "outputs": [
    {
     "ename": "",
     "evalue": "",
     "output_type": "error",
     "traceback": [
      "\u001b[1;31mRunning cells with 'venv' requires the ipykernel package.\n",
      "\u001b[1;31mRun the following command to install 'ipykernel' into the Python environment. \n",
      "\u001b[1;31mCommand: '/home/piresthiago10/Documentos/Desenvolvimento/estudos_data_science/venv/bin/python -m pip install ipykernel -U --force-reinstall'"
     ]
    }
   ],
   "source": [
    "previsao_renda = previsao_renda_raw[['posse_de_veiculo', 'posse_de_imovel', 'qtd_filhos', 'idade', 'tempo_emprego', 'qt_pessoas_residencia', 'renda']].copy()\n",
    "previsao_renda['qtd_filhos_pct'] = previsao_renda['qtd_filhos'] / (previsao_renda_raw['qtd_filhos'].sum() - previsao_renda['qtd_filhos'])\n",
    "previsao_renda['idade_pct'] = previsao_renda['idade'] / (previsao_renda_raw['idade'].sum() - previsao_renda['idade'])\n",
    "previsao_renda['tempo_emprego_pct'] = previsao_renda['tempo_emprego'] / (previsao_renda_raw['tempo_emprego'].sum() - previsao_renda['tempo_emprego'])\n",
    "previsao_renda['qt_pessoas_residencia_pct'] = previsao_renda['qt_pessoas_residencia'] / (previsao_renda_raw['qt_pessoas_residencia'].sum() - previsao_renda['qt_pessoas_residencia'])\n",
    "previsao_renda['renda_pct'] = previsao_renda['renda'] / (previsao_renda_raw['renda'].sum() - previsao_renda['renda'])"
   ]
  },
  {
   "cell_type": "code",
   "execution_count": null,
   "metadata": {},
   "outputs": [
    {
     "ename": "",
     "evalue": "",
     "output_type": "error",
     "traceback": [
      "\u001b[1;31mRunning cells with 'venv' requires the ipykernel package.\n",
      "\u001b[1;31mRun the following command to install 'ipykernel' into the Python environment. \n",
      "\u001b[1;31mCommand: '/home/piresthiago10/Documentos/Desenvolvimento/estudos_data_science/venv/bin/python -m pip install ipykernel -U --force-reinstall'"
     ]
    }
   ],
   "source": [
    "n_meses = len(previsao_renda_raw['data_ref'].value_counts())\n",
    "date_range = previsao_renda_raw['data_ref'].values[0]\n",
    "n_clientes = 210\n",
    "\n",
    "datas = pd.Series(pd.date_range(date_range, periods = n_meses, freq = 'MS').repeat(n_clientes))\n",
    "\n",
    "dados = previsao_renda.sample(n = n_meses * n_clientes, replace=True).reset_index()\n",
    "\n",
    "previsao_renda2 = pd.concat([datas, dados], axis = 1)\n",
    "previsao_renda2.rename({0:'data_ref'}, inplace = True, axis = 'columns')\n",
    "previsao_renda2"
   ]
  },
  {
   "cell_type": "code",
   "execution_count": null,
   "metadata": {},
   "outputs": [
    {
     "ename": "",
     "evalue": "",
     "output_type": "error",
     "traceback": [
      "\u001b[1;31mRunning cells with 'venv' requires the ipykernel package.\n",
      "\u001b[1;31mRun the following command to install 'ipykernel' into the Python environment. \n",
      "\u001b[1;31mCommand: '/home/piresthiago10/Documentos/Desenvolvimento/estudos_data_science/venv/bin/python -m pip install ipykernel -U --force-reinstall'"
     ]
    }
   ],
   "source": [
    "ax = sns.countplot(x='data_ref',  hue = 'posse_de_veiculo', data=previsao_renda2)\n",
    "\n",
    "tick_labs = previsao_renda2['data_ref'].map(lambda ts: ts.strftime(\"%m-%Y\")).unique()\n",
    "\n",
    "# tick_labs.tolist()\n",
    "\n",
    "ticks = ax.set_xticks(list(range(previsao_renda2['data_ref'].nunique())))\n",
    "labels = ax.set_xticklabels(tick_labs, rotation=45)\n",
    "\n",
    "plt.legend(bbox_to_anchor=(1.05, 1), loc=2, borderaxespad=0.)"
   ]
  },
  {
   "cell_type": "code",
   "execution_count": null,
   "metadata": {},
   "outputs": [
    {
     "ename": "",
     "evalue": "",
     "output_type": "error",
     "traceback": [
      "\u001b[1;31mRunning cells with 'venv' requires the ipykernel package.\n",
      "\u001b[1;31mRun the following command to install 'ipykernel' into the Python environment. \n",
      "\u001b[1;31mCommand: '/home/piresthiago10/Documentos/Desenvolvimento/estudos_data_science/venv/bin/python -m pip install ipykernel -U --force-reinstall'"
     ]
    }
   ],
   "source": [
    "ax = sns.countplot(x='data_ref',  hue = 'posse_de_imovel', data=previsao_renda2)\n",
    "\n",
    "tick_labs = previsao_renda2['data_ref'].map(lambda ts: ts.strftime(\"%m-%Y\")).unique()\n",
    "\n",
    "# tick_labs.tolist()\n",
    "\n",
    "ticks = ax.set_xticks(list(range(previsao_renda2['data_ref'].nunique())))\n",
    "labels = ax.set_xticklabels(tick_labs, rotation=45)\n",
    "\n",
    "plt.legend(bbox_to_anchor=(1.05, 1), loc=2, borderaxespad=0.)"
   ]
  },
  {
   "attachments": {},
   "cell_type": "markdown",
   "metadata": {},
   "source": [
    "Houve uma alteração interessante. Na comparação das variáveis qualitativas como preditoras de renda, possuir veículo apresentou-se bem significativo, olhando a amostragem de dados à luz da distribuição no tempo, a posse de imóvel tornou-se mais significativa."
   ]
  },
  {
   "attachments": {},
   "cell_type": "markdown",
   "metadata": {},
   "source": [
    "2) Para cada variável quantitativa, construa um gráfico mostrando as médias de cada nível da variável no tempo e avalie a estabilidade. Houve alguma alteração importante? Você acha que se pode utilizar essas variáveis em uma modelagem?"
   ]
  },
  {
   "cell_type": "code",
   "execution_count": null,
   "metadata": {},
   "outputs": [
    {
     "ename": "",
     "evalue": "",
     "output_type": "error",
     "traceback": [
      "\u001b[1;31mRunning cells with 'venv' requires the ipykernel package.\n",
      "\u001b[1;31mRun the following command to install 'ipykernel' into the Python environment. \n",
      "\u001b[1;31mCommand: '/home/piresthiago10/Documentos/Desenvolvimento/estudos_data_science/venv/bin/python -m pip install ipykernel -U --force-reinstall'"
     ]
    }
   ],
   "source": [
    "ax = sns.pointplot(x=\"data_ref\", y=\"qtd_filhos_pct\", hue = 'posse_de_veiculo',\n",
    "                   data=previsao_renda2, dodge=True, errorbar=('ci', 95))\n",
    "\n",
    "plt.legend(loc = 'lower center', bbox_to_anchor=(0.5, -.30),ncol = 3)\n",
    "\n",
    "tick_labs = previsao_renda2['data_ref'].map(lambda ts: ts.strftime(\"%m-%Y\")).unique()\n",
    "\n",
    "ticks = ax.set_xticks(list(range(previsao_renda2['data_ref'].nunique())))\n",
    "labels = ax.set_xticklabels(tick_labs, rotation=45)\n",
    "\n",
    "plt.legend(loc = 'lower center', bbox_to_anchor=(0.5, -.50),ncol = 3)"
   ]
  },
  {
   "cell_type": "code",
   "execution_count": null,
   "metadata": {},
   "outputs": [
    {
     "ename": "",
     "evalue": "",
     "output_type": "error",
     "traceback": [
      "\u001b[1;31mRunning cells with 'venv' requires the ipykernel package.\n",
      "\u001b[1;31mRun the following command to install 'ipykernel' into the Python environment. \n",
      "\u001b[1;31mCommand: '/home/piresthiago10/Documentos/Desenvolvimento/estudos_data_science/venv/bin/python -m pip install ipykernel -U --force-reinstall'"
     ]
    }
   ],
   "source": [
    "ax = sns.pointplot(x=\"data_ref\", y=\"qtd_filhos_pct\", hue = 'posse_de_imovel',\n",
    "                   data=previsao_renda2, dodge=True, errorbar=('ci', 95))\n",
    "\n",
    "plt.legend(loc = 'lower center', bbox_to_anchor=(0.5, -.30),ncol = 3)\n",
    "\n",
    "tick_labs = previsao_renda2['data_ref'].map(lambda ts: ts.strftime(\"%m-%Y\")).unique()\n",
    "\n",
    "ticks = ax.set_xticks(list(range(previsao_renda2['data_ref'].nunique())))\n",
    "labels = ax.set_xticklabels(tick_labs, rotation=45)\n",
    "\n",
    "plt.legend(loc = 'lower center', bbox_to_anchor=(0.5, -.50),ncol = 3)"
   ]
  },
  {
   "cell_type": "code",
   "execution_count": null,
   "metadata": {},
   "outputs": [
    {
     "ename": "",
     "evalue": "",
     "output_type": "error",
     "traceback": [
      "\u001b[1;31mRunning cells with 'venv' requires the ipykernel package.\n",
      "\u001b[1;31mRun the following command to install 'ipykernel' into the Python environment. \n",
      "\u001b[1;31mCommand: '/home/piresthiago10/Documentos/Desenvolvimento/estudos_data_science/venv/bin/python -m pip install ipykernel -U --force-reinstall'"
     ]
    }
   ],
   "source": [
    "ax = sns.pointplot(x=\"data_ref\", y=\"idade_pct\", hue = 'posse_de_veiculo',\n",
    "                   data=previsao_renda2, dodge=True, errorbar=('ci', 95))\n",
    "\n",
    "plt.legend(loc = 'lower center', bbox_to_anchor=(0.5, -.30),ncol = 3)\n",
    "\n",
    "tick_labs = previsao_renda2['data_ref'].map(lambda ts: ts.strftime(\"%m-%Y\")).unique()\n",
    "\n",
    "ticks = ax.set_xticks(list(range(previsao_renda2['data_ref'].nunique())))\n",
    "labels = ax.set_xticklabels(tick_labs, rotation=45)\n",
    "\n",
    "plt.legend(loc = 'lower center', bbox_to_anchor=(0.5, -.50),ncol = 3)"
   ]
  },
  {
   "cell_type": "code",
   "execution_count": null,
   "metadata": {},
   "outputs": [
    {
     "ename": "",
     "evalue": "",
     "output_type": "error",
     "traceback": [
      "\u001b[1;31mRunning cells with 'venv' requires the ipykernel package.\n",
      "\u001b[1;31mRun the following command to install 'ipykernel' into the Python environment. \n",
      "\u001b[1;31mCommand: '/home/piresthiago10/Documentos/Desenvolvimento/estudos_data_science/venv/bin/python -m pip install ipykernel -U --force-reinstall'"
     ]
    }
   ],
   "source": [
    "ax = sns.pointplot(x=\"data_ref\", y=\"idade_pct\", hue = 'posse_de_imovel',\n",
    "                   data=previsao_renda2, dodge=True, errorbar=('ci', 95))\n",
    "\n",
    "plt.legend(loc = 'lower center', bbox_to_anchor=(0.5, -.30),ncol = 3)\n",
    "\n",
    "tick_labs = previsao_renda2['data_ref'].map(lambda ts: ts.strftime(\"%m-%Y\")).unique()\n",
    "\n",
    "ticks = ax.set_xticks(list(range(previsao_renda2['data_ref'].nunique())))\n",
    "labels = ax.set_xticklabels(tick_labs, rotation=45)\n",
    "\n",
    "plt.legend(loc = 'lower center', bbox_to_anchor=(0.5, -.50),ncol = 3)"
   ]
  },
  {
   "cell_type": "code",
   "execution_count": null,
   "metadata": {},
   "outputs": [
    {
     "ename": "",
     "evalue": "",
     "output_type": "error",
     "traceback": [
      "\u001b[1;31mRunning cells with 'venv' requires the ipykernel package.\n",
      "\u001b[1;31mRun the following command to install 'ipykernel' into the Python environment. \n",
      "\u001b[1;31mCommand: '/home/piresthiago10/Documentos/Desenvolvimento/estudos_data_science/venv/bin/python -m pip install ipykernel -U --force-reinstall'"
     ]
    }
   ],
   "source": [
    "ax = sns.pointplot(x=\"data_ref\", y=\"tempo_emprego_pct\", hue = 'posse_de_veiculo',\n",
    "                   data=previsao_renda2, dodge=True, errorbar=('ci', 95))\n",
    "\n",
    "plt.legend(loc = 'lower center', bbox_to_anchor=(0.5, -.30),ncol = 3)\n",
    "\n",
    "tick_labs = previsao_renda2['data_ref'].map(lambda ts: ts.strftime(\"%m-%Y\")).unique()\n",
    "\n",
    "ticks = ax.set_xticks(list(range(previsao_renda2['data_ref'].nunique())))\n",
    "labels = ax.set_xticklabels(tick_labs, rotation=45)\n",
    "\n",
    "plt.legend(loc = 'lower center', bbox_to_anchor=(0.5, -.50),ncol = 3)"
   ]
  },
  {
   "cell_type": "code",
   "execution_count": null,
   "metadata": {},
   "outputs": [
    {
     "ename": "",
     "evalue": "",
     "output_type": "error",
     "traceback": [
      "\u001b[1;31mRunning cells with 'venv' requires the ipykernel package.\n",
      "\u001b[1;31mRun the following command to install 'ipykernel' into the Python environment. \n",
      "\u001b[1;31mCommand: '/home/piresthiago10/Documentos/Desenvolvimento/estudos_data_science/venv/bin/python -m pip install ipykernel -U --force-reinstall'"
     ]
    }
   ],
   "source": [
    "ax = sns.pointplot(x=\"data_ref\", y=\"tempo_emprego_pct\", hue = 'posse_de_imovel',\n",
    "                   data=previsao_renda2, dodge=True, errorbar=('ci', 95))\n",
    "\n",
    "plt.legend(loc = 'lower center', bbox_to_anchor=(0.5, -.30),ncol = 3)\n",
    "\n",
    "tick_labs = previsao_renda2['data_ref'].map(lambda ts: ts.strftime(\"%m-%Y\")).unique()\n",
    "\n",
    "ticks = ax.set_xticks(list(range(previsao_renda2['data_ref'].nunique())))\n",
    "labels = ax.set_xticklabels(tick_labs, rotation=45)\n",
    "\n",
    "plt.legend(loc = 'lower center', bbox_to_anchor=(0.5, -.50),ncol = 3)"
   ]
  },
  {
   "cell_type": "code",
   "execution_count": null,
   "metadata": {},
   "outputs": [
    {
     "ename": "",
     "evalue": "",
     "output_type": "error",
     "traceback": [
      "\u001b[1;31mRunning cells with 'venv' requires the ipykernel package.\n",
      "\u001b[1;31mRun the following command to install 'ipykernel' into the Python environment. \n",
      "\u001b[1;31mCommand: '/home/piresthiago10/Documentos/Desenvolvimento/estudos_data_science/venv/bin/python -m pip install ipykernel -U --force-reinstall'"
     ]
    }
   ],
   "source": [
    "ax = sns.pointplot(x=\"data_ref\", y=\"qt_pessoas_residencia_pct\", hue = 'posse_de_veiculo',\n",
    "                   data=previsao_renda2, dodge=True, errorbar=('ci', 95))\n",
    "\n",
    "plt.legend(loc = 'lower center', bbox_to_anchor=(0.5, -.30),ncol = 3)\n",
    "\n",
    "tick_labs = previsao_renda2['data_ref'].map(lambda ts: ts.strftime(\"%m-%Y\")).unique()\n",
    "\n",
    "ticks = ax.set_xticks(list(range(previsao_renda2['data_ref'].nunique())))\n",
    "labels = ax.set_xticklabels(tick_labs, rotation=45)\n",
    "\n",
    "plt.legend(loc = 'lower center', bbox_to_anchor=(0.5, -.50),ncol = 3)"
   ]
  },
  {
   "cell_type": "code",
   "execution_count": null,
   "metadata": {},
   "outputs": [
    {
     "ename": "",
     "evalue": "",
     "output_type": "error",
     "traceback": [
      "\u001b[1;31mRunning cells with 'venv' requires the ipykernel package.\n",
      "\u001b[1;31mRun the following command to install 'ipykernel' into the Python environment. \n",
      "\u001b[1;31mCommand: '/home/piresthiago10/Documentos/Desenvolvimento/estudos_data_science/venv/bin/python -m pip install ipykernel -U --force-reinstall'"
     ]
    }
   ],
   "source": [
    "ax = sns.pointplot(x=\"data_ref\", y=\"qt_pessoas_residencia_pct\", hue = 'posse_de_imovel',\n",
    "                   data=previsao_renda2, dodge=True, errorbar=('ci', 95))\n",
    "\n",
    "plt.legend(loc = 'lower center', bbox_to_anchor=(0.5, -.30),ncol = 3)\n",
    "\n",
    "tick_labs = previsao_renda2['data_ref'].map(lambda ts: ts.strftime(\"%m-%Y\")).unique()\n",
    "\n",
    "ticks = ax.set_xticks(list(range(previsao_renda2['data_ref'].nunique())))\n",
    "labels = ax.set_xticklabels(tick_labs, rotation=45)\n",
    "\n",
    "plt.legend(loc = 'lower center', bbox_to_anchor=(0.5, -.50),ncol = 3)"
   ]
  },
  {
   "cell_type": "code",
   "execution_count": null,
   "metadata": {},
   "outputs": [
    {
     "ename": "",
     "evalue": "",
     "output_type": "error",
     "traceback": [
      "\u001b[1;31mRunning cells with 'venv' requires the ipykernel package.\n",
      "\u001b[1;31mRun the following command to install 'ipykernel' into the Python environment. \n",
      "\u001b[1;31mCommand: '/home/piresthiago10/Documentos/Desenvolvimento/estudos_data_science/venv/bin/python -m pip install ipykernel -U --force-reinstall'"
     ]
    }
   ],
   "source": [
    "ax = sns.pointplot(x=\"data_ref\", y=\"renda_pct\", hue = 'posse_de_veiculo',\n",
    "                   data=previsao_renda2, dodge=True, errorbar=('ci', 95))\n",
    "\n",
    "plt.legend(loc = 'lower center', bbox_to_anchor=(0.5, -.30),ncol = 3)\n",
    "\n",
    "tick_labs = previsao_renda2['data_ref'].map(lambda ts: ts.strftime(\"%m-%Y\")).unique()\n",
    "\n",
    "ticks = ax.set_xticks(list(range(previsao_renda2['data_ref'].nunique())))\n",
    "labels = ax.set_xticklabels(tick_labs, rotation=45)\n",
    "\n",
    "plt.legend(loc = 'lower center', bbox_to_anchor=(0.5, -.50),ncol = 3)"
   ]
  },
  {
   "cell_type": "code",
   "execution_count": null,
   "metadata": {},
   "outputs": [
    {
     "ename": "",
     "evalue": "",
     "output_type": "error",
     "traceback": [
      "\u001b[1;31mRunning cells with 'venv' requires the ipykernel package.\n",
      "\u001b[1;31mRun the following command to install 'ipykernel' into the Python environment. \n",
      "\u001b[1;31mCommand: '/home/piresthiago10/Documentos/Desenvolvimento/estudos_data_science/venv/bin/python -m pip install ipykernel -U --force-reinstall'"
     ]
    }
   ],
   "source": [
    "ax = sns.pointplot(x=\"data_ref\", y=\"renda_pct\", hue = 'posse_de_imovel',\n",
    "                   data=previsao_renda2, dodge=True, errorbar=('ci', 95))\n",
    "\n",
    "plt.legend(loc = 'lower center', bbox_to_anchor=(0.5, -.30),ncol = 3)\n",
    "\n",
    "tick_labs = previsao_renda2['data_ref'].map(lambda ts: ts.strftime(\"%m-%Y\")).unique()\n",
    "\n",
    "ticks = ax.set_xticks(list(range(previsao_renda2['data_ref'].nunique())))\n",
    "labels = ax.set_xticklabels(tick_labs, rotation=45)\n",
    "\n",
    "plt.legend(loc = 'lower center', bbox_to_anchor=(0.5, -.50),ncol = 3)"
   ]
  },
  {
   "attachments": {},
   "cell_type": "markdown",
   "metadata": {},
   "source": [
    "Existe uma oscilação preocupante nas variavéis quantitativas que pode comprometer a integridade da modelagem."
   ]
  }
 ],
 "metadata": {
  "kernelspec": {
   "display_name": "Python 3",
   "language": "python",
   "name": "python3"
  },
  "language_info": {
   "codemirror_mode": {
    "name": "ipython",
    "version": 3
   },
   "file_extension": ".py",
   "mimetype": "text/x-python",
   "name": "python",
   "nbconvert_exporter": "python",
   "pygments_lexer": "ipython3",
   "version": "3.10.9"
  }
 },
 "nbformat": 4,
 "nbformat_minor": 4
}
